{
 "cells": [
  {
   "cell_type": "markdown",
   "metadata": {},
   "source": [
    "#                     Tweet Classifier: Detecting Disasters"
   ]
  },
  {
   "cell_type": "markdown",
   "metadata": {},
   "source": [
    "#### Problem:\n",
    "\n",
    "The beauty of Twitter is that it offers real-time communication of users. And when a disaster happens, being able to analyze tweets can better assist in responding to the situation. That’s why it’s important for media outlets and disaster relief organizations, like FEMA, to monitor social media. Programming a machine learning model to do this can be difficult. There’s certain words that can mean different things that humans can decipher quicker than a machine. For example, “on fire” can refer to an actual fire, as in “that building is on fire”, or a term used when you eat something spicy, as in “my mouth is on fire”. I believe that there are certain elements in a tweet that a model can recognize to predict whether a tweet is referring to a real disaster, like unique keywords and the length of tweets. The goal of this project is to build a model that can recognize the difference and predict what’s referring to a disaster and what is not.\n"
   ]
  },
  {
   "cell_type": "markdown",
   "metadata": {},
   "source": [
    "# Data\n",
    "Data is coming from  [Data for Everyone](https://www.figure-eight.com/data-for-everyone/) and is also a competition on [Kaggle](https://www.kaggle.com/c/nlp-getting-started), where there’s a data set for about 10,000 tweets that include the tweet and whether it’s relevant or not relevant to the topic of a real disaster. Since this was already available through CSV, there was not any wrangling that I needed to do."
   ]
  },
  {
   "cell_type": "code",
   "execution_count": 50,
   "metadata": {},
   "outputs": [],
   "source": [
    "import pandas as pd\n",
    "import numpy as np\n",
    "import re\n",
    "\n",
    "from nltk.tokenize import word_tokenize \n",
    "from nltk.corpus import stopwords\n",
    "from nltk.stem import WordNetLemmatizer \n",
    "from nltk.probability import FreqDist\n",
    "\n",
    "import matplotlib.pyplot as plt\n",
    "import seaborn as sns"
   ]
  },
  {
   "cell_type": "code",
   "execution_count": 51,
   "metadata": {},
   "outputs": [],
   "source": [
    "tweets = pd.read_csv('data/socialmedia-disaster-tweets-DFE.csv', encoding = \"ISO-8859-1\")"
   ]
  },
  {
   "cell_type": "code",
   "execution_count": 52,
   "metadata": {},
   "outputs": [
    {
     "name": "stdout",
     "output_type": "stream",
     "text": [
      "<class 'pandas.core.frame.DataFrame'>\n",
      "RangeIndex: 10876 entries, 0 to 10875\n",
      "Data columns (total 13 columns):\n",
      "_unit_id                 10876 non-null int64\n",
      "_golden                  10876 non-null bool\n",
      "_unit_state              10876 non-null object\n",
      "_trusted_judgments       10876 non-null int64\n",
      "_last_judgment_at        10792 non-null object\n",
      "choose_one               10876 non-null object\n",
      "choose_one:confidence    10876 non-null float64\n",
      "choose_one_gold          87 non-null object\n",
      "keyword                  10789 non-null object\n",
      "location                 7238 non-null object\n",
      "text                     10876 non-null object\n",
      "tweetid                  10876 non-null float64\n",
      "userid                   10789 non-null float64\n",
      "dtypes: bool(1), float64(3), int64(2), object(7)\n",
      "memory usage: 1.0+ MB\n"
     ]
    }
   ],
   "source": [
    "tweets.info()"
   ]
  },
  {
   "cell_type": "markdown",
   "metadata": {},
   "source": [
    "### Data Cleaning\n",
    "\n",
    "Out of all of these columns, I will be using only 2:\n",
    "   1. <b>text</b> - This is the text of the tweet\n",
    "   2. <b>choose_one</b> - This is whether the text is Relevant, Not Relevant, or Can't Decide on the topic of whether the text refers to a real disaster or not."
   ]
  },
  {
   "cell_type": "code",
   "execution_count": 53,
   "metadata": {},
   "outputs": [
    {
     "data": {
      "text/html": [
       "<div>\n",
       "<style scoped>\n",
       "    .dataframe tbody tr th:only-of-type {\n",
       "        vertical-align: middle;\n",
       "    }\n",
       "\n",
       "    .dataframe tbody tr th {\n",
       "        vertical-align: top;\n",
       "    }\n",
       "\n",
       "    .dataframe thead th {\n",
       "        text-align: right;\n",
       "    }\n",
       "</style>\n",
       "<table border=\"1\" class=\"dataframe\">\n",
       "  <thead>\n",
       "    <tr style=\"text-align: right;\">\n",
       "      <th></th>\n",
       "      <th>_unit_id</th>\n",
       "      <th>_golden</th>\n",
       "      <th>_unit_state</th>\n",
       "      <th>_trusted_judgments</th>\n",
       "      <th>_last_judgment_at</th>\n",
       "      <th>choose_one</th>\n",
       "      <th>choose_one:confidence</th>\n",
       "      <th>choose_one_gold</th>\n",
       "      <th>keyword</th>\n",
       "      <th>location</th>\n",
       "      <th>text</th>\n",
       "      <th>tweetid</th>\n",
       "      <th>userid</th>\n",
       "    </tr>\n",
       "  </thead>\n",
       "  <tbody>\n",
       "    <tr>\n",
       "      <th>0</th>\n",
       "      <td>778243823</td>\n",
       "      <td>True</td>\n",
       "      <td>golden</td>\n",
       "      <td>156</td>\n",
       "      <td>NaN</td>\n",
       "      <td>Relevant</td>\n",
       "      <td>1.0000</td>\n",
       "      <td>Relevant</td>\n",
       "      <td>NaN</td>\n",
       "      <td>NaN</td>\n",
       "      <td>Just happened a terrible car crash</td>\n",
       "      <td>1.0</td>\n",
       "      <td>NaN</td>\n",
       "    </tr>\n",
       "    <tr>\n",
       "      <th>1</th>\n",
       "      <td>778243824</td>\n",
       "      <td>True</td>\n",
       "      <td>golden</td>\n",
       "      <td>152</td>\n",
       "      <td>NaN</td>\n",
       "      <td>Relevant</td>\n",
       "      <td>1.0000</td>\n",
       "      <td>Relevant</td>\n",
       "      <td>NaN</td>\n",
       "      <td>NaN</td>\n",
       "      <td>Our Deeds are the Reason of this #earthquake M...</td>\n",
       "      <td>13.0</td>\n",
       "      <td>NaN</td>\n",
       "    </tr>\n",
       "    <tr>\n",
       "      <th>2</th>\n",
       "      <td>778243825</td>\n",
       "      <td>True</td>\n",
       "      <td>golden</td>\n",
       "      <td>137</td>\n",
       "      <td>NaN</td>\n",
       "      <td>Relevant</td>\n",
       "      <td>1.0000</td>\n",
       "      <td>Relevant</td>\n",
       "      <td>NaN</td>\n",
       "      <td>NaN</td>\n",
       "      <td>Heard about #earthquake is different cities, s...</td>\n",
       "      <td>14.0</td>\n",
       "      <td>NaN</td>\n",
       "    </tr>\n",
       "    <tr>\n",
       "      <th>3</th>\n",
       "      <td>778243826</td>\n",
       "      <td>True</td>\n",
       "      <td>golden</td>\n",
       "      <td>136</td>\n",
       "      <td>NaN</td>\n",
       "      <td>Relevant</td>\n",
       "      <td>0.9603</td>\n",
       "      <td>Relevant</td>\n",
       "      <td>NaN</td>\n",
       "      <td>NaN</td>\n",
       "      <td>there is a forest fire at spot pond, geese are...</td>\n",
       "      <td>15.0</td>\n",
       "      <td>NaN</td>\n",
       "    </tr>\n",
       "    <tr>\n",
       "      <th>4</th>\n",
       "      <td>778243827</td>\n",
       "      <td>True</td>\n",
       "      <td>golden</td>\n",
       "      <td>138</td>\n",
       "      <td>NaN</td>\n",
       "      <td>Relevant</td>\n",
       "      <td>1.0000</td>\n",
       "      <td>Relevant</td>\n",
       "      <td>NaN</td>\n",
       "      <td>NaN</td>\n",
       "      <td>Forest fire near La Ronge Sask. Canada</td>\n",
       "      <td>16.0</td>\n",
       "      <td>NaN</td>\n",
       "    </tr>\n",
       "  </tbody>\n",
       "</table>\n",
       "</div>"
      ],
      "text/plain": [
       "    _unit_id  _golden _unit_state  _trusted_judgments _last_judgment_at  \\\n",
       "0  778243823     True      golden                 156               NaN   \n",
       "1  778243824     True      golden                 152               NaN   \n",
       "2  778243825     True      golden                 137               NaN   \n",
       "3  778243826     True      golden                 136               NaN   \n",
       "4  778243827     True      golden                 138               NaN   \n",
       "\n",
       "  choose_one  choose_one:confidence choose_one_gold keyword location  \\\n",
       "0   Relevant                 1.0000        Relevant     NaN      NaN   \n",
       "1   Relevant                 1.0000        Relevant     NaN      NaN   \n",
       "2   Relevant                 1.0000        Relevant     NaN      NaN   \n",
       "3   Relevant                 0.9603        Relevant     NaN      NaN   \n",
       "4   Relevant                 1.0000        Relevant     NaN      NaN   \n",
       "\n",
       "                                                text  tweetid  userid  \n",
       "0                 Just happened a terrible car crash      1.0     NaN  \n",
       "1  Our Deeds are the Reason of this #earthquake M...     13.0     NaN  \n",
       "2  Heard about #earthquake is different cities, s...     14.0     NaN  \n",
       "3  there is a forest fire at spot pond, geese are...     15.0     NaN  \n",
       "4             Forest fire near La Ronge Sask. Canada     16.0     NaN  "
      ]
     },
     "execution_count": 53,
     "metadata": {},
     "output_type": "execute_result"
    }
   ],
   "source": [
    "tweets.head(5)"
   ]
  },
  {
   "cell_type": "code",
   "execution_count": 54,
   "metadata": {
    "scrolled": false
   },
   "outputs": [
    {
     "data": {
      "text/html": [
       "<div>\n",
       "<style scoped>\n",
       "    .dataframe tbody tr th:only-of-type {\n",
       "        vertical-align: middle;\n",
       "    }\n",
       "\n",
       "    .dataframe tbody tr th {\n",
       "        vertical-align: top;\n",
       "    }\n",
       "\n",
       "    .dataframe thead th {\n",
       "        text-align: right;\n",
       "    }\n",
       "</style>\n",
       "<table border=\"1\" class=\"dataframe\">\n",
       "  <thead>\n",
       "    <tr style=\"text-align: right;\">\n",
       "      <th></th>\n",
       "      <th>choose_one</th>\n",
       "      <th>text</th>\n",
       "    </tr>\n",
       "  </thead>\n",
       "  <tbody>\n",
       "    <tr>\n",
       "      <th>0</th>\n",
       "      <td>Relevant</td>\n",
       "      <td>Just happened a terrible car crash</td>\n",
       "    </tr>\n",
       "    <tr>\n",
       "      <th>1</th>\n",
       "      <td>Relevant</td>\n",
       "      <td>Our Deeds are the Reason of this #earthquake M...</td>\n",
       "    </tr>\n",
       "    <tr>\n",
       "      <th>2</th>\n",
       "      <td>Relevant</td>\n",
       "      <td>Heard about #earthquake is different cities, s...</td>\n",
       "    </tr>\n",
       "    <tr>\n",
       "      <th>3</th>\n",
       "      <td>Relevant</td>\n",
       "      <td>there is a forest fire at spot pond, geese are...</td>\n",
       "    </tr>\n",
       "    <tr>\n",
       "      <th>4</th>\n",
       "      <td>Relevant</td>\n",
       "      <td>Forest fire near La Ronge Sask. Canada</td>\n",
       "    </tr>\n",
       "  </tbody>\n",
       "</table>\n",
       "</div>"
      ],
      "text/plain": [
       "  choose_one                                               text\n",
       "0   Relevant                 Just happened a terrible car crash\n",
       "1   Relevant  Our Deeds are the Reason of this #earthquake M...\n",
       "2   Relevant  Heard about #earthquake is different cities, s...\n",
       "3   Relevant  there is a forest fire at spot pond, geese are...\n",
       "4   Relevant             Forest fire near La Ronge Sask. Canada"
      ]
     },
     "execution_count": 54,
     "metadata": {},
     "output_type": "execute_result"
    }
   ],
   "source": [
    "#Create new dataframe of the selected columns\n",
    "\n",
    "tweets = tweets[['choose_one', 'text']]\n",
    "\n",
    "tweets.head(5)"
   ]
  },
  {
   "cell_type": "code",
   "execution_count": 55,
   "metadata": {
    "scrolled": false
   },
   "outputs": [
    {
     "data": {
      "text/html": [
       "<div>\n",
       "<style scoped>\n",
       "    .dataframe tbody tr th:only-of-type {\n",
       "        vertical-align: middle;\n",
       "    }\n",
       "\n",
       "    .dataframe tbody tr th {\n",
       "        vertical-align: top;\n",
       "    }\n",
       "\n",
       "    .dataframe thead th {\n",
       "        text-align: right;\n",
       "    }\n",
       "</style>\n",
       "<table border=\"1\" class=\"dataframe\">\n",
       "  <thead>\n",
       "    <tr style=\"text-align: right;\">\n",
       "      <th></th>\n",
       "      <th>text</th>\n",
       "    </tr>\n",
       "    <tr>\n",
       "      <th>choose_one</th>\n",
       "      <th></th>\n",
       "    </tr>\n",
       "  </thead>\n",
       "  <tbody>\n",
       "    <tr>\n",
       "      <th>Can't Decide</th>\n",
       "      <td>16</td>\n",
       "    </tr>\n",
       "    <tr>\n",
       "      <th>Not Relevant</th>\n",
       "      <td>6187</td>\n",
       "    </tr>\n",
       "    <tr>\n",
       "      <th>Relevant</th>\n",
       "      <td>4673</td>\n",
       "    </tr>\n",
       "  </tbody>\n",
       "</table>\n",
       "</div>"
      ],
      "text/plain": [
       "              text\n",
       "choose_one        \n",
       "Can't Decide    16\n",
       "Not Relevant  6187\n",
       "Relevant      4673"
      ]
     },
     "execution_count": 55,
     "metadata": {},
     "output_type": "execute_result"
    }
   ],
   "source": [
    "tweets.groupby('choose_one').count()"
   ]
  },
  {
   "cell_type": "markdown",
   "metadata": {},
   "source": [
    "The dataset has more tweets that are not related to disasters than those tweets that are related. There’s also another value “Can’t Decide” for tweets that could not be categorized. Since it’s a small amount of the data I removed it, which allowed our target to have 2 classifications: Relevant and Not Relevant, which can then be mapped to “Yes” (Relevant) and “No” (Not Relevant); this was my personal choice for a target."
   ]
  },
  {
   "cell_type": "code",
   "execution_count": 56,
   "metadata": {},
   "outputs": [],
   "source": [
    "df = pd.DataFrame() #Create blank dataframe\n",
    "\n",
    "#Add new columns with data while dropping rows that are marked as \"Can't Decide\"\n",
    "df[['target', 'text']] = tweets[tweets['choose_one'] != \"Can't Decide\"] "
   ]
  },
  {
   "cell_type": "code",
   "execution_count": 57,
   "metadata": {
    "scrolled": true
   },
   "outputs": [
    {
     "data": {
      "text/html": [
       "<div>\n",
       "<style scoped>\n",
       "    .dataframe tbody tr th:only-of-type {\n",
       "        vertical-align: middle;\n",
       "    }\n",
       "\n",
       "    .dataframe tbody tr th {\n",
       "        vertical-align: top;\n",
       "    }\n",
       "\n",
       "    .dataframe thead th {\n",
       "        text-align: right;\n",
       "    }\n",
       "</style>\n",
       "<table border=\"1\" class=\"dataframe\">\n",
       "  <thead>\n",
       "    <tr style=\"text-align: right;\">\n",
       "      <th></th>\n",
       "      <th>text</th>\n",
       "    </tr>\n",
       "    <tr>\n",
       "      <th>target</th>\n",
       "      <th></th>\n",
       "    </tr>\n",
       "  </thead>\n",
       "  <tbody>\n",
       "    <tr>\n",
       "      <th>Not Relevant</th>\n",
       "      <td>6187</td>\n",
       "    </tr>\n",
       "    <tr>\n",
       "      <th>Relevant</th>\n",
       "      <td>4673</td>\n",
       "    </tr>\n",
       "  </tbody>\n",
       "</table>\n",
       "</div>"
      ],
      "text/plain": [
       "              text\n",
       "target            \n",
       "Not Relevant  6187\n",
       "Relevant      4673"
      ]
     },
     "execution_count": 57,
     "metadata": {},
     "output_type": "execute_result"
    }
   ],
   "source": [
    "df.groupby('target').count()"
   ]
  },
  {
   "cell_type": "code",
   "execution_count": 58,
   "metadata": {},
   "outputs": [],
   "source": [
    "df['target'] = df['target'].map({'Relevant': 'Yes', 'Not Relevant': 'No'})"
   ]
  },
  {
   "cell_type": "code",
   "execution_count": 59,
   "metadata": {
    "scrolled": true
   },
   "outputs": [
    {
     "data": {
      "text/html": [
       "<div>\n",
       "<style scoped>\n",
       "    .dataframe tbody tr th:only-of-type {\n",
       "        vertical-align: middle;\n",
       "    }\n",
       "\n",
       "    .dataframe tbody tr th {\n",
       "        vertical-align: top;\n",
       "    }\n",
       "\n",
       "    .dataframe thead th {\n",
       "        text-align: right;\n",
       "    }\n",
       "</style>\n",
       "<table border=\"1\" class=\"dataframe\">\n",
       "  <thead>\n",
       "    <tr style=\"text-align: right;\">\n",
       "      <th></th>\n",
       "      <th>target</th>\n",
       "      <th>text</th>\n",
       "    </tr>\n",
       "  </thead>\n",
       "  <tbody>\n",
       "    <tr>\n",
       "      <th>0</th>\n",
       "      <td>Yes</td>\n",
       "      <td>Just happened a terrible car crash</td>\n",
       "    </tr>\n",
       "    <tr>\n",
       "      <th>1</th>\n",
       "      <td>Yes</td>\n",
       "      <td>Our Deeds are the Reason of this #earthquake M...</td>\n",
       "    </tr>\n",
       "    <tr>\n",
       "      <th>2</th>\n",
       "      <td>Yes</td>\n",
       "      <td>Heard about #earthquake is different cities, s...</td>\n",
       "    </tr>\n",
       "    <tr>\n",
       "      <th>3</th>\n",
       "      <td>Yes</td>\n",
       "      <td>there is a forest fire at spot pond, geese are...</td>\n",
       "    </tr>\n",
       "    <tr>\n",
       "      <th>4</th>\n",
       "      <td>Yes</td>\n",
       "      <td>Forest fire near La Ronge Sask. Canada</td>\n",
       "    </tr>\n",
       "  </tbody>\n",
       "</table>\n",
       "</div>"
      ],
      "text/plain": [
       "  target                                               text\n",
       "0    Yes                 Just happened a terrible car crash\n",
       "1    Yes  Our Deeds are the Reason of this #earthquake M...\n",
       "2    Yes  Heard about #earthquake is different cities, s...\n",
       "3    Yes  there is a forest fire at spot pond, geese are...\n",
       "4    Yes             Forest fire near La Ronge Sask. Canada"
      ]
     },
     "execution_count": 59,
     "metadata": {},
     "output_type": "execute_result"
    }
   ],
   "source": [
    "df.head()"
   ]
  },
  {
   "cell_type": "markdown",
   "metadata": {},
   "source": [
    "Before starting EDA and applying any machine learning models, the text column needed to be cleaned by removing common characters that are seen in tweets such as hashtags, mentions, and urls. Along with this, the words in the text all needed to be in lowercase. Doing this will ensure that our model doesn’t count ‘Hello’ and ‘hello’ as 2 separate words. I then lemmatized each word to their lemma, which shortened each word to their base; for example, lemmatization would shorten ‘caresses’ to ‘caress’ or ‘dogs’ to ‘dog’. Finally, stop words were removed from each text. Stop words are common words in a language, such as ‘The’, ‘But’, and ‘To’, that have a high frequency. These stop words are not helpful for our model and having them take up space in our dataset that our model trains on. I used the NLTK stopword list and added some acronyms that we might encounter specifically in tweets; such as, rt for retweets, cc for carbon copy and more. [Tweet Acronyms](https://mashable.com/2013/07/19/twitter-lingo-guide/)\n"
   ]
  },
  {
   "cell_type": "code",
   "execution_count": 60,
   "metadata": {},
   "outputs": [],
   "source": [
    "#Remove stopwords \n",
    "stop_words = stopwords.words('english')\n",
    "\n",
    "#New words to add to the stopwords list. This contains\n",
    "newWords = ['afaik', 'cc', 'cx', 'dm', 'ff', 'ht', 'icymi',\n",
    "           'mm', 'mt', 'nsfw', 'oh', 'prt', 'rlrt', 'rt',\n",
    "           'smh', 'tftf', 'til', 'tl', 'dr', 'tmb', 'tqrt', 'tt', 'w']\n",
    "stop_words.extend(newWords)\n",
    "\n",
    "def text_cleaning(text):\n",
    "    \"\"\"If applying on DataFrame column, use within an apply method. \n",
    "    INPUT: \n",
    "        - text: text string\"\"\"\n",
    "      \n",
    "    text = re.sub(r'(www|http)\\S+','',text) #Removes URLs\n",
    "    text = re.sub(r'@\\w+','', text) #Removes nametags\n",
    "    text = text.lower() #lowercase all words    \n",
    "    \n",
    "    def lemmatize(text):\n",
    "        lemmatizer = WordNetLemmatizer()\n",
    "        lemmatized_output = ' '.join(lemmatizer.lemmatize(x, 'v') for x in word_tokenize(text))\n",
    "        return lemmatized_output\n",
    "    \n",
    "    text = lemmatize(text)\n",
    "\n",
    "    text = re.sub(r'[^a-z\\s]',' ', text) #remove random symbols and numbers in string\n",
    "    \n",
    "    def remove_stopwords(text):\n",
    "        token = word_tokenize(text)\n",
    "        \n",
    "        remove_short = [x for x in token if len(x)>2 ] #remove words that are shorter than 2 letters\n",
    "        \n",
    "        #remove stopwords and put sentence back together\n",
    "        remove_output = ' '.join(x for x in remove_short if x not in stop_words) \n",
    "        \n",
    "        return remove_output\n",
    "    \n",
    "    text = remove_stopwords(text)\n",
    "    \n",
    "    return text"
   ]
  },
  {
   "cell_type": "code",
   "execution_count": 61,
   "metadata": {
    "scrolled": false
   },
   "outputs": [
    {
     "name": "stdout",
     "output_type": "stream",
     "text": [
      "Original: Landslide caused by severe rainstorm kills 3 in ItalianåÊAlps https://t.co/8BhvxX2Xl9 http://t.co/4ou8s82HxJ\n",
      "\n",
      "Cleaned: landslide cause severe rainstorm kill italian alps\n"
     ]
    }
   ],
   "source": [
    "#Test out the text cleaning function \n",
    "\n",
    "clean2 = df.text[7958]\n",
    "print('Original:',clean2)\n",
    "print()\n",
    "print('Cleaned:', text_cleaning(clean2))"
   ]
  },
  {
   "cell_type": "code",
   "execution_count": 62,
   "metadata": {
    "scrolled": true
   },
   "outputs": [],
   "source": [
    "#Apply the text_cleaning function to all of the texts\n",
    "df['clean_text'] = df['text'].apply(text_cleaning)"
   ]
  },
  {
   "cell_type": "code",
   "execution_count": 63,
   "metadata": {
    "scrolled": true
   },
   "outputs": [
    {
     "data": {
      "text/html": [
       "<div>\n",
       "<style scoped>\n",
       "    .dataframe tbody tr th:only-of-type {\n",
       "        vertical-align: middle;\n",
       "    }\n",
       "\n",
       "    .dataframe tbody tr th {\n",
       "        vertical-align: top;\n",
       "    }\n",
       "\n",
       "    .dataframe thead th {\n",
       "        text-align: right;\n",
       "    }\n",
       "</style>\n",
       "<table border=\"1\" class=\"dataframe\">\n",
       "  <thead>\n",
       "    <tr style=\"text-align: right;\">\n",
       "      <th></th>\n",
       "      <th>target</th>\n",
       "      <th>text</th>\n",
       "      <th>clean_text</th>\n",
       "    </tr>\n",
       "  </thead>\n",
       "  <tbody>\n",
       "    <tr>\n",
       "      <th>0</th>\n",
       "      <td>Yes</td>\n",
       "      <td>Just happened a terrible car crash</td>\n",
       "      <td>happen terrible car crash</td>\n",
       "    </tr>\n",
       "    <tr>\n",
       "      <th>1</th>\n",
       "      <td>Yes</td>\n",
       "      <td>Our Deeds are the Reason of this #earthquake M...</td>\n",
       "      <td>deeds reason earthquake may allah forgive</td>\n",
       "    </tr>\n",
       "    <tr>\n",
       "      <th>2</th>\n",
       "      <td>Yes</td>\n",
       "      <td>Heard about #earthquake is different cities, s...</td>\n",
       "      <td>hear earthquake different cities stay safe eve...</td>\n",
       "    </tr>\n",
       "    <tr>\n",
       "      <th>3</th>\n",
       "      <td>Yes</td>\n",
       "      <td>there is a forest fire at spot pond, geese are...</td>\n",
       "      <td>forest fire spot pond geese flee across street...</td>\n",
       "    </tr>\n",
       "    <tr>\n",
       "      <th>4</th>\n",
       "      <td>Yes</td>\n",
       "      <td>Forest fire near La Ronge Sask. Canada</td>\n",
       "      <td>forest fire near ronge sask canada</td>\n",
       "    </tr>\n",
       "  </tbody>\n",
       "</table>\n",
       "</div>"
      ],
      "text/plain": [
       "  target                                               text  \\\n",
       "0    Yes                 Just happened a terrible car crash   \n",
       "1    Yes  Our Deeds are the Reason of this #earthquake M...   \n",
       "2    Yes  Heard about #earthquake is different cities, s...   \n",
       "3    Yes  there is a forest fire at spot pond, geese are...   \n",
       "4    Yes             Forest fire near La Ronge Sask. Canada   \n",
       "\n",
       "                                          clean_text  \n",
       "0                          happen terrible car crash  \n",
       "1          deeds reason earthquake may allah forgive  \n",
       "2  hear earthquake different cities stay safe eve...  \n",
       "3  forest fire spot pond geese flee across street...  \n",
       "4                 forest fire near ronge sask canada  "
      ]
     },
     "execution_count": 63,
     "metadata": {},
     "output_type": "execute_result"
    }
   ],
   "source": [
    "df.head(5)"
   ]
  },
  {
   "cell_type": "markdown",
   "metadata": {},
   "source": [
    "As we can see from the data above, the text has all been lowercased and the words shortened. Special characters have been removed as well. I will keep both text and clean_text in my dataframe. The text column will be used to create some features, as well as the clean_text column for some exploratory data analysis.\n",
    "\n",
    "Some features I'd like to look at:\n",
    "1. Tweet Length\n",
    "2. Number of words\n",
    "3. Number of hashtags\n",
    "4. Number of mentions"
   ]
  },
  {
   "cell_type": "code",
   "execution_count": 64,
   "metadata": {},
   "outputs": [],
   "source": [
    "#tweet length feature\n",
    "df['tweet_length'] = df['clean_text'].str.len()"
   ]
  },
  {
   "cell_type": "code",
   "execution_count": 65,
   "metadata": {
    "scrolled": true
   },
   "outputs": [
    {
     "data": {
      "text/html": [
       "<div>\n",
       "<style scoped>\n",
       "    .dataframe tbody tr th:only-of-type {\n",
       "        vertical-align: middle;\n",
       "    }\n",
       "\n",
       "    .dataframe tbody tr th {\n",
       "        vertical-align: top;\n",
       "    }\n",
       "\n",
       "    .dataframe thead th {\n",
       "        text-align: right;\n",
       "    }\n",
       "</style>\n",
       "<table border=\"1\" class=\"dataframe\">\n",
       "  <thead>\n",
       "    <tr style=\"text-align: right;\">\n",
       "      <th></th>\n",
       "      <th>target</th>\n",
       "      <th>text</th>\n",
       "      <th>clean_text</th>\n",
       "      <th>tweet_length</th>\n",
       "    </tr>\n",
       "  </thead>\n",
       "  <tbody>\n",
       "    <tr>\n",
       "      <th>0</th>\n",
       "      <td>Yes</td>\n",
       "      <td>Just happened a terrible car crash</td>\n",
       "      <td>happen terrible car crash</td>\n",
       "      <td>25</td>\n",
       "    </tr>\n",
       "    <tr>\n",
       "      <th>1</th>\n",
       "      <td>Yes</td>\n",
       "      <td>Our Deeds are the Reason of this #earthquake M...</td>\n",
       "      <td>deeds reason earthquake may allah forgive</td>\n",
       "      <td>41</td>\n",
       "    </tr>\n",
       "    <tr>\n",
       "      <th>2</th>\n",
       "      <td>Yes</td>\n",
       "      <td>Heard about #earthquake is different cities, s...</td>\n",
       "      <td>hear earthquake different cities stay safe eve...</td>\n",
       "      <td>51</td>\n",
       "    </tr>\n",
       "    <tr>\n",
       "      <th>3</th>\n",
       "      <td>Yes</td>\n",
       "      <td>there is a forest fire at spot pond, geese are...</td>\n",
       "      <td>forest fire spot pond geese flee across street...</td>\n",
       "      <td>51</td>\n",
       "    </tr>\n",
       "    <tr>\n",
       "      <th>4</th>\n",
       "      <td>Yes</td>\n",
       "      <td>Forest fire near La Ronge Sask. Canada</td>\n",
       "      <td>forest fire near ronge sask canada</td>\n",
       "      <td>34</td>\n",
       "    </tr>\n",
       "  </tbody>\n",
       "</table>\n",
       "</div>"
      ],
      "text/plain": [
       "  target                                               text  \\\n",
       "0    Yes                 Just happened a terrible car crash   \n",
       "1    Yes  Our Deeds are the Reason of this #earthquake M...   \n",
       "2    Yes  Heard about #earthquake is different cities, s...   \n",
       "3    Yes  there is a forest fire at spot pond, geese are...   \n",
       "4    Yes             Forest fire near La Ronge Sask. Canada   \n",
       "\n",
       "                                          clean_text  tweet_length  \n",
       "0                          happen terrible car crash            25  \n",
       "1          deeds reason earthquake may allah forgive            41  \n",
       "2  hear earthquake different cities stay safe eve...            51  \n",
       "3  forest fire spot pond geese flee across street...            51  \n",
       "4                 forest fire near ronge sask canada            34  "
      ]
     },
     "execution_count": 65,
     "metadata": {},
     "output_type": "execute_result"
    }
   ],
   "source": [
    "df.head()"
   ]
  },
  {
   "cell_type": "code",
   "execution_count": 66,
   "metadata": {},
   "outputs": [
    {
     "data": {
      "text/html": [
       "<div>\n",
       "<style scoped>\n",
       "    .dataframe tbody tr th:only-of-type {\n",
       "        vertical-align: middle;\n",
       "    }\n",
       "\n",
       "    .dataframe tbody tr th {\n",
       "        vertical-align: top;\n",
       "    }\n",
       "\n",
       "    .dataframe thead th {\n",
       "        text-align: right;\n",
       "    }\n",
       "</style>\n",
       "<table border=\"1\" class=\"dataframe\">\n",
       "  <thead>\n",
       "    <tr style=\"text-align: right;\">\n",
       "      <th></th>\n",
       "      <th>target</th>\n",
       "      <th>text</th>\n",
       "      <th>clean_text</th>\n",
       "      <th>tweet_length</th>\n",
       "      <th>num_words</th>\n",
       "    </tr>\n",
       "  </thead>\n",
       "  <tbody>\n",
       "    <tr>\n",
       "      <th>0</th>\n",
       "      <td>Yes</td>\n",
       "      <td>Just happened a terrible car crash</td>\n",
       "      <td>happen terrible car crash</td>\n",
       "      <td>25</td>\n",
       "      <td>4</td>\n",
       "    </tr>\n",
       "    <tr>\n",
       "      <th>1</th>\n",
       "      <td>Yes</td>\n",
       "      <td>Our Deeds are the Reason of this #earthquake M...</td>\n",
       "      <td>deeds reason earthquake may allah forgive</td>\n",
       "      <td>41</td>\n",
       "      <td>6</td>\n",
       "    </tr>\n",
       "    <tr>\n",
       "      <th>2</th>\n",
       "      <td>Yes</td>\n",
       "      <td>Heard about #earthquake is different cities, s...</td>\n",
       "      <td>hear earthquake different cities stay safe eve...</td>\n",
       "      <td>51</td>\n",
       "      <td>7</td>\n",
       "    </tr>\n",
       "    <tr>\n",
       "      <th>3</th>\n",
       "      <td>Yes</td>\n",
       "      <td>there is a forest fire at spot pond, geese are...</td>\n",
       "      <td>forest fire spot pond geese flee across street...</td>\n",
       "      <td>51</td>\n",
       "      <td>9</td>\n",
       "    </tr>\n",
       "    <tr>\n",
       "      <th>4</th>\n",
       "      <td>Yes</td>\n",
       "      <td>Forest fire near La Ronge Sask. Canada</td>\n",
       "      <td>forest fire near ronge sask canada</td>\n",
       "      <td>34</td>\n",
       "      <td>6</td>\n",
       "    </tr>\n",
       "  </tbody>\n",
       "</table>\n",
       "</div>"
      ],
      "text/plain": [
       "  target                                               text  \\\n",
       "0    Yes                 Just happened a terrible car crash   \n",
       "1    Yes  Our Deeds are the Reason of this #earthquake M...   \n",
       "2    Yes  Heard about #earthquake is different cities, s...   \n",
       "3    Yes  there is a forest fire at spot pond, geese are...   \n",
       "4    Yes             Forest fire near La Ronge Sask. Canada   \n",
       "\n",
       "                                          clean_text  tweet_length  num_words  \n",
       "0                          happen terrible car crash            25          4  \n",
       "1          deeds reason earthquake may allah forgive            41          6  \n",
       "2  hear earthquake different cities stay safe eve...            51          7  \n",
       "3  forest fire spot pond geese flee across street...            51          9  \n",
       "4                 forest fire near ronge sask canada            34          6  "
      ]
     },
     "execution_count": 66,
     "metadata": {},
     "output_type": "execute_result"
    }
   ],
   "source": [
    "#number of words feature\n",
    "\n",
    "def word_count(text):\n",
    "    words = text.split()\n",
    "    return len(words)\n",
    "\n",
    "df['num_words'] = df['clean_text'].apply(word_count)\n",
    "\n",
    "df.head()"
   ]
  },
  {
   "cell_type": "code",
   "execution_count": 67,
   "metadata": {},
   "outputs": [
    {
     "data": {
      "text/html": [
       "<div>\n",
       "<style scoped>\n",
       "    .dataframe tbody tr th:only-of-type {\n",
       "        vertical-align: middle;\n",
       "    }\n",
       "\n",
       "    .dataframe tbody tr th {\n",
       "        vertical-align: top;\n",
       "    }\n",
       "\n",
       "    .dataframe thead th {\n",
       "        text-align: right;\n",
       "    }\n",
       "</style>\n",
       "<table border=\"1\" class=\"dataframe\">\n",
       "  <thead>\n",
       "    <tr style=\"text-align: right;\">\n",
       "      <th></th>\n",
       "      <th>target</th>\n",
       "      <th>text</th>\n",
       "      <th>clean_text</th>\n",
       "      <th>tweet_length</th>\n",
       "      <th>num_words</th>\n",
       "      <th>hashtag_count</th>\n",
       "    </tr>\n",
       "  </thead>\n",
       "  <tbody>\n",
       "    <tr>\n",
       "      <th>0</th>\n",
       "      <td>Yes</td>\n",
       "      <td>Just happened a terrible car crash</td>\n",
       "      <td>happen terrible car crash</td>\n",
       "      <td>25</td>\n",
       "      <td>4</td>\n",
       "      <td>0</td>\n",
       "    </tr>\n",
       "    <tr>\n",
       "      <th>1</th>\n",
       "      <td>Yes</td>\n",
       "      <td>Our Deeds are the Reason of this #earthquake M...</td>\n",
       "      <td>deeds reason earthquake may allah forgive</td>\n",
       "      <td>41</td>\n",
       "      <td>6</td>\n",
       "      <td>1</td>\n",
       "    </tr>\n",
       "    <tr>\n",
       "      <th>2</th>\n",
       "      <td>Yes</td>\n",
       "      <td>Heard about #earthquake is different cities, s...</td>\n",
       "      <td>hear earthquake different cities stay safe eve...</td>\n",
       "      <td>51</td>\n",
       "      <td>7</td>\n",
       "      <td>1</td>\n",
       "    </tr>\n",
       "    <tr>\n",
       "      <th>3</th>\n",
       "      <td>Yes</td>\n",
       "      <td>there is a forest fire at spot pond, geese are...</td>\n",
       "      <td>forest fire spot pond geese flee across street...</td>\n",
       "      <td>51</td>\n",
       "      <td>9</td>\n",
       "      <td>0</td>\n",
       "    </tr>\n",
       "    <tr>\n",
       "      <th>4</th>\n",
       "      <td>Yes</td>\n",
       "      <td>Forest fire near La Ronge Sask. Canada</td>\n",
       "      <td>forest fire near ronge sask canada</td>\n",
       "      <td>34</td>\n",
       "      <td>6</td>\n",
       "      <td>0</td>\n",
       "    </tr>\n",
       "  </tbody>\n",
       "</table>\n",
       "</div>"
      ],
      "text/plain": [
       "  target                                               text  \\\n",
       "0    Yes                 Just happened a terrible car crash   \n",
       "1    Yes  Our Deeds are the Reason of this #earthquake M...   \n",
       "2    Yes  Heard about #earthquake is different cities, s...   \n",
       "3    Yes  there is a forest fire at spot pond, geese are...   \n",
       "4    Yes             Forest fire near La Ronge Sask. Canada   \n",
       "\n",
       "                                          clean_text  tweet_length  num_words  \\\n",
       "0                          happen terrible car crash            25          4   \n",
       "1          deeds reason earthquake may allah forgive            41          6   \n",
       "2  hear earthquake different cities stay safe eve...            51          7   \n",
       "3  forest fire spot pond geese flee across street...            51          9   \n",
       "4                 forest fire near ronge sask canada            34          6   \n",
       "\n",
       "   hashtag_count  \n",
       "0              0  \n",
       "1              1  \n",
       "2              1  \n",
       "3              0  \n",
       "4              0  "
      ]
     },
     "execution_count": 67,
     "metadata": {},
     "output_type": "execute_result"
    }
   ],
   "source": [
    "#hashtag feature\n",
    "\n",
    "def hashtag_count(text):\n",
    "    words = text.split()\n",
    "    hashtags = [word for word in words if word.startswith('#')]\n",
    "    return len(hashtags)\n",
    "\n",
    "df['hashtag_count'] = df['text'].apply(hashtag_count)\n",
    "\n",
    "df.head()"
   ]
  },
  {
   "cell_type": "code",
   "execution_count": 68,
   "metadata": {},
   "outputs": [
    {
     "data": {
      "text/html": [
       "<div>\n",
       "<style scoped>\n",
       "    .dataframe tbody tr th:only-of-type {\n",
       "        vertical-align: middle;\n",
       "    }\n",
       "\n",
       "    .dataframe tbody tr th {\n",
       "        vertical-align: top;\n",
       "    }\n",
       "\n",
       "    .dataframe thead th {\n",
       "        text-align: right;\n",
       "    }\n",
       "</style>\n",
       "<table border=\"1\" class=\"dataframe\">\n",
       "  <thead>\n",
       "    <tr style=\"text-align: right;\">\n",
       "      <th></th>\n",
       "      <th>target</th>\n",
       "      <th>text</th>\n",
       "      <th>clean_text</th>\n",
       "      <th>tweet_length</th>\n",
       "      <th>num_words</th>\n",
       "      <th>hashtag_count</th>\n",
       "      <th>mention_count</th>\n",
       "    </tr>\n",
       "  </thead>\n",
       "  <tbody>\n",
       "    <tr>\n",
       "      <th>0</th>\n",
       "      <td>Yes</td>\n",
       "      <td>Just happened a terrible car crash</td>\n",
       "      <td>happen terrible car crash</td>\n",
       "      <td>25</td>\n",
       "      <td>4</td>\n",
       "      <td>0</td>\n",
       "      <td>0</td>\n",
       "    </tr>\n",
       "    <tr>\n",
       "      <th>1</th>\n",
       "      <td>Yes</td>\n",
       "      <td>Our Deeds are the Reason of this #earthquake M...</td>\n",
       "      <td>deeds reason earthquake may allah forgive</td>\n",
       "      <td>41</td>\n",
       "      <td>6</td>\n",
       "      <td>1</td>\n",
       "      <td>0</td>\n",
       "    </tr>\n",
       "    <tr>\n",
       "      <th>2</th>\n",
       "      <td>Yes</td>\n",
       "      <td>Heard about #earthquake is different cities, s...</td>\n",
       "      <td>hear earthquake different cities stay safe eve...</td>\n",
       "      <td>51</td>\n",
       "      <td>7</td>\n",
       "      <td>1</td>\n",
       "      <td>0</td>\n",
       "    </tr>\n",
       "    <tr>\n",
       "      <th>3</th>\n",
       "      <td>Yes</td>\n",
       "      <td>there is a forest fire at spot pond, geese are...</td>\n",
       "      <td>forest fire spot pond geese flee across street...</td>\n",
       "      <td>51</td>\n",
       "      <td>9</td>\n",
       "      <td>0</td>\n",
       "      <td>0</td>\n",
       "    </tr>\n",
       "    <tr>\n",
       "      <th>4</th>\n",
       "      <td>Yes</td>\n",
       "      <td>Forest fire near La Ronge Sask. Canada</td>\n",
       "      <td>forest fire near ronge sask canada</td>\n",
       "      <td>34</td>\n",
       "      <td>6</td>\n",
       "      <td>0</td>\n",
       "      <td>0</td>\n",
       "    </tr>\n",
       "  </tbody>\n",
       "</table>\n",
       "</div>"
      ],
      "text/plain": [
       "  target                                               text  \\\n",
       "0    Yes                 Just happened a terrible car crash   \n",
       "1    Yes  Our Deeds are the Reason of this #earthquake M...   \n",
       "2    Yes  Heard about #earthquake is different cities, s...   \n",
       "3    Yes  there is a forest fire at spot pond, geese are...   \n",
       "4    Yes             Forest fire near La Ronge Sask. Canada   \n",
       "\n",
       "                                          clean_text  tweet_length  num_words  \\\n",
       "0                          happen terrible car crash            25          4   \n",
       "1          deeds reason earthquake may allah forgive            41          6   \n",
       "2  hear earthquake different cities stay safe eve...            51          7   \n",
       "3  forest fire spot pond geese flee across street...            51          9   \n",
       "4                 forest fire near ronge sask canada            34          6   \n",
       "\n",
       "   hashtag_count  mention_count  \n",
       "0              0              0  \n",
       "1              1              0  \n",
       "2              1              0  \n",
       "3              0              0  \n",
       "4              0              0  "
      ]
     },
     "execution_count": 68,
     "metadata": {},
     "output_type": "execute_result"
    }
   ],
   "source": [
    "#mention feature\n",
    "\n",
    "def mention_count(text):\n",
    "    words = text.split()\n",
    "    hashtags = [word for word in words if word.startswith('@')]\n",
    "    return len(hashtags)\n",
    "\n",
    "df['mention_count'] = df['text'].apply(mention_count)\n",
    "\n",
    "df.head()"
   ]
  },
  {
   "cell_type": "code",
   "execution_count": null,
   "metadata": {},
   "outputs": [],
   "source": []
  },
  {
   "cell_type": "markdown",
   "metadata": {
    "scrolled": true
   },
   "source": [
    "# Exploratory Data Analysis\n"
   ]
  },
  {
   "cell_type": "code",
   "execution_count": 69,
   "metadata": {
    "scrolled": true
   },
   "outputs": [
    {
     "data": {
      "image/png": "[encoded data removed]",
      "text/plain": [
       "<Figure size 432x288 with 1 Axes>"
      ]
     },
     "metadata": {
      "needs_background": "light"
     },
     "output_type": "display_data"
    }
   ],
   "source": [
    "#Let's take a look at the distribution of real disaster tweets vs not real tweets\n",
    "\n",
    "t = df.groupby('target')\n",
    "\n",
    "_ = t['target'].count().plot(x='id', y='target', kind='bar')\n",
    "_ = plt.xlabel ('Real Disaster Tweet?')\n",
    "_ = plt.ylabel ('# of Tweets')\n",
    "_ = plt.title('# of disaster tweets(Yes) vs non-disaster(No) tweets')\n",
    "plt.show()"
   ]
  },
  {
   "cell_type": "code",
   "execution_count": 70,
   "metadata": {
    "scrolled": true
   },
   "outputs": [
    {
     "data": {
      "image/png": "[encoded data removed]",
      "text/plain": [
       "<Figure size 432x288 with 1 Axes>"
      ]
     },
     "metadata": {
      "needs_background": "light"
     },
     "output_type": "display_data"
    }
   ],
   "source": [
    "_ = sns.distplot(df[df['target']=='No']['tweet_length']).set_title('Tweet length distribution')\n",
    "_ = sns.distplot(df[df['target']=='Yes']['tweet_length'])\n",
    "plt.legend(['Not Disaster Tweet','Disaster Tweet'])\n",
    "plt.show()"
   ]
  },
  {
   "cell_type": "code",
   "execution_count": 71,
   "metadata": {
    "scrolled": false
   },
   "outputs": [
    {
     "data": {
      "image/png": "[encoded data removed]",
      "text/plain": [
       "<Figure size 432x288 with 1 Axes>"
      ]
     },
     "metadata": {
      "needs_background": "light"
     },
     "output_type": "display_data"
    }
   ],
   "source": [
    "#A look at boxplot of tweet length\n",
    "\n",
    "_ = sns.boxplot(data=df, x='target', y='tweet_length').set_title('Boxplot of tweet length for target')\n",
    "_ = plt.xlabel ('Real Disaster Tweet?')\n",
    "_ = plt.ylabel ('tweet length')\n",
    "plt.show()"
   ]
  },
  {
   "cell_type": "markdown",
   "metadata": {},
   "source": [
    "The distribution of disaster tweet lengths are slightly left skewed, while the distribution of non-disaster tweets are slightly right skewed. This could be attributed to the fact that when someone needs to describe a situation, like a disaster, would use more words.\n"
   ]
  },
  {
   "cell_type": "code",
   "execution_count": 72,
   "metadata": {
    "scrolled": false
   },
   "outputs": [
    {
     "data": {
      "image/png": "[encoded data removed]",
      "text/plain": [
       "<Figure size 432x288 with 1 Axes>"
      ]
     },
     "metadata": {
      "needs_background": "light"
     },
     "output_type": "display_data"
    }
   ],
   "source": [
    "_ = sns.distplot(df[df['target']=='No']['num_words'], bins = 20).set_title('Number of words distribution')\n",
    "_ = sns.distplot(df[df['target']=='Yes']['num_words'], bins = 20)\n",
    "plt.legend(['Not Disaster Tweet','Disaster Tweet'])\n",
    "plt.show()"
   ]
  },
  {
   "cell_type": "code",
   "execution_count": 73,
   "metadata": {
    "scrolled": false
   },
   "outputs": [
    {
     "data": {
      "image/png": "[encoded data removed]",
      "text/plain": [
       "<Figure size 432x288 with 1 Axes>"
      ]
     },
     "metadata": {
      "needs_background": "light"
     },
     "output_type": "display_data"
    }
   ],
   "source": [
    "_ = sns.boxplot(data=df, x='target', y='num_words').set_title('Boxplot of num_words for target')\n",
    "_ = plt.xlabel ('Real Disaster Tweet?')\n",
    "_ = plt.ylabel ('# of words')\n",
    "plt.show()"
   ]
  },
  {
   "cell_type": "markdown",
   "metadata": {},
   "source": [
    "On average, real disaster tweets have more number of words. This makes sense since we saw that tweet length is usually longer for tweets relating to a disaster. The longer the tweet, then it can be assumed that it will have more words. "
   ]
  },
  {
   "cell_type": "code",
   "execution_count": 74,
   "metadata": {
    "scrolled": false
   },
   "outputs": [
    {
     "data": {
      "image/png": "[encoded data removed]",
      "text/plain": [
       "<Figure size 432x288 with 1 Axes>"
      ]
     },
     "metadata": {
      "needs_background": "light"
     },
     "output_type": "display_data"
    }
   ],
   "source": [
    "_ = t['hashtag_count'].sum().plot(x='target', y='hashtag_count', kind='bar')\n",
    "_ = plt.xlabel ('Real Disaster Tweet?')\n",
    "_ = plt.ylabel ('# of Hashtags')\n",
    "_ = plt.title('# of Hashtags')\n",
    "plt.show()"
   ]
  },
  {
   "cell_type": "markdown",
   "metadata": {},
   "source": [
    "The number of hashtags in each type of tweet is almost identical. I can see how both are helpful in both types of situations. # added before a word or phrase allows that word to be a searchable keyword in twitter. Users can better find posts by looking for certain keywords. "
   ]
  },
  {
   "cell_type": "code",
   "execution_count": 75,
   "metadata": {},
   "outputs": [
    {
     "data": {
      "image/png": "[encoded data removed]",
      "text/plain": [
       "<Figure size 432x288 with 1 Axes>"
      ]
     },
     "metadata": {
      "needs_background": "light"
     },
     "output_type": "display_data"
    }
   ],
   "source": [
    "_ = t['mention_count'].sum().plot(x='target', y='mention_count', kind='bar')\n",
    "_ = plt.xlabel ('Real Disaster Tweet?')\n",
    "_ = plt.ylabel ('# of Mentions(@)')\n",
    "_ = plt.title('# of Mentions(@)')\n",
    "plt.show()"
   ]
  },
  {
   "cell_type": "markdown",
   "metadata": {},
   "source": [
    "The number of mentions are a lot higher for tweets that are not related to disasters. When users use @ before a username, it tags that person in that post. "
   ]
  },
  {
   "cell_type": "code",
   "execution_count": null,
   "metadata": {},
   "outputs": [],
   "source": []
  },
  {
   "cell_type": "markdown",
   "metadata": {},
   "source": [
    "### Text Analysis:\n",
    "\n",
    "For text analysis, I utilized Frequency Distribution and ngrams from the NLTK library to plot, find most common words, and convert texts to bigrams and trigrams. "
   ]
  },
  {
   "cell_type": "code",
   "execution_count": 76,
   "metadata": {},
   "outputs": [],
   "source": [
    "#Create function to combine all tokens in clean_text column into one list\n",
    "\n",
    "def tokenize_to_list(text):\n",
    "    allTokens = []\n",
    "    tokenized = text.apply(word_tokenize)\n",
    "    for token in tokenized:\n",
    "        allTokens += token\n",
    "    return allTokens"
   ]
  },
  {
   "cell_type": "code",
   "execution_count": 77,
   "metadata": {
    "scrolled": true
   },
   "outputs": [
    {
     "data": {
      "image/png": "[encoded data removed]",
      "text/plain": [
       "<Figure size 432x288 with 1 Axes>"
      ]
     },
     "metadata": {
      "needs_background": "light"
     },
     "output_type": "display_data"
    },
    {
     "name": "stdout",
     "output_type": "stream",
     "text": [
      "Top 20 Words for Non-Disaster Tweets\n"
     ]
    },
    {
     "data": {
      "text/plain": [
       "[('get', 455),\n",
       " ('like', 413),\n",
       " ('amp', 298),\n",
       " ('new', 238),\n",
       " ('one', 187),\n",
       " ('make', 181),\n",
       " ('would', 170),\n",
       " ('body', 159),\n",
       " ('say', 158),\n",
       " ('think', 158),\n",
       " ('love', 155),\n",
       " ('see', 154),\n",
       " ('time', 151),\n",
       " ('bag', 151),\n",
       " ('come', 150),\n",
       " ('via', 142),\n",
       " ('know', 140),\n",
       " ('video', 135),\n",
       " ('want', 132),\n",
       " ('people', 132)]"
      ]
     },
     "execution_count": 77,
     "metadata": {},
     "output_type": "execute_result"
    }
   ],
   "source": [
    "#Tokens to a single list for No target\n",
    "allTokens_0 = tokenize_to_list(df[df['target']=='No']['clean_text'])\n",
    "\n",
    "# Frequency Distribution in NLTK was used in order to find the common words.\n",
    "fdist_0 = FreqDist(allTokens_0)\n",
    "\n",
    "#Plot top 10 words\n",
    "_ = fdist_0.plot(10, title='Top 10 Words for Non-Disaster Tweets')\n",
    "\n",
    "#Print top 20 words\n",
    "\n",
    "print('Top 20 Words for Non-Disaster Tweets')\n",
    "fdist_0.most_common(20)"
   ]
  },
  {
   "cell_type": "code",
   "execution_count": 78,
   "metadata": {
    "scrolled": false
   },
   "outputs": [
    {
     "data": {
      "image/png": "[encoded data removed]",
      "text/plain": [
       "<Figure size 432x288 with 1 Axes>"
      ]
     },
     "metadata": {
      "needs_background": "light"
     },
     "output_type": "display_data"
    },
    {
     "name": "stdout",
     "output_type": "stream",
     "text": [
      "Top 20 Words for Disaster Tweets\n"
     ]
    },
    {
     "data": {
      "text/plain": [
       "[('fire', 400),\n",
       " ('bomb', 259),\n",
       " ('news', 226),\n",
       " ('kill', 222),\n",
       " ('amp', 212),\n",
       " ('get', 183),\n",
       " ('via', 183),\n",
       " ('flood', 170),\n",
       " ('disaster', 166),\n",
       " ('attack', 166),\n",
       " ('suicide', 166),\n",
       " ('crash', 152),\n",
       " ('people', 151),\n",
       " ('police', 151),\n",
       " ('california', 150),\n",
       " ('train', 147),\n",
       " ('hiroshima', 146),\n",
       " ('like', 146),\n",
       " ('home', 137),\n",
       " ('storm', 137)]"
      ]
     },
     "execution_count": 78,
     "metadata": {},
     "output_type": "execute_result"
    }
   ],
   "source": [
    "#Tokens to a single list for Yes target\n",
    "allTokens_1 = tokenize_to_list(df[df['target']=='Yes']['clean_text'])\n",
    "\n",
    "\n",
    "fdist_1 = FreqDist(allTokens_1)\n",
    "\n",
    "_ = fdist_1.plot(10, title='Top 10 Words for Real Disaster Tweets')\n",
    "\n",
    "print('Top 20 Words for Disaster Tweets')\n",
    "fdist_1.most_common(20)"
   ]
  },
  {
   "cell_type": "markdown",
   "metadata": {},
   "source": [
    "The unigram model above displays the most commonly used words in each case of whether a tweet is related to a disaster or not. For disaster tweets, we see the top 2 words that relates to a disaster: “fire” and “bomb”. But seeing just these single words, like the word ‘california’ in the disaster words, it will be hard to categorize the tweet without previously knowing the target.  This is where bigrams and trigrams come in handy because it lists pairs of words that occur together frequently. "
   ]
  },
  {
   "cell_type": "code",
   "execution_count": 79,
   "metadata": {
    "scrolled": false
   },
   "outputs": [],
   "source": [
    "from nltk.util import ngrams"
   ]
  },
  {
   "cell_type": "code",
   "execution_count": 80,
   "metadata": {
    "scrolled": true
   },
   "outputs": [],
   "source": [
    "#Create function to apply bigram or trigram to dataframe\n",
    "\n",
    "def generate_ngrams(text, int):\n",
    "    \"\"\"Use dataframe text column in text field. \n",
    "    INPUT: \n",
    "        - text: DataFrame column\n",
    "        - int: 2 (for bigram), 3 (for trigram), etc\"\"\"\n",
    "    \n",
    "    allTokens = []\n",
    "    \n",
    "    tokens = text.apply(word_tokenize) #tokenize text\n",
    "    output = tokens.apply(lambda x: list (ngrams(x, int))) #apply ngrams function\n",
    "    \n",
    "    for x in output:\n",
    "        allTokens += x\n",
    "    \n",
    "    return allTokens"
   ]
  },
  {
   "cell_type": "code",
   "execution_count": 81,
   "metadata": {},
   "outputs": [
    {
     "data": {
      "image/png": "[encoded data removed]",
      "text/plain": [
       "<Figure size 432x288 with 1 Axes>"
      ]
     },
     "metadata": {
      "needs_background": "light"
     },
     "output_type": "display_data"
    },
    {
     "name": "stdout",
     "output_type": "stream",
     "text": [
      "Top 20 Bigrams for Non-Disaster Tweets\n"
     ]
    },
    {
     "data": {
      "text/plain": [
       "[(('body', 'bag'), 99),\n",
       " (('cross', 'body'), 53),\n",
       " (('like', 'video'), 51),\n",
       " (('look', 'like'), 47),\n",
       " (('full', 'read'), 42),\n",
       " (('feel', 'like'), 38),\n",
       " (('loud', 'bang'), 31),\n",
       " (('burn', 'build'), 30),\n",
       " (('first', 'responders'), 29),\n",
       " (('content', 'policy'), 28),\n",
       " (('reddit', 'quarantine'), 27),\n",
       " (('quarantine', 'offensive'), 27),\n",
       " (('china', 'stock'), 27),\n",
       " (('stock', 'market'), 27),\n",
       " (('market', 'crash'), 27),\n",
       " (('emergency', 'service'), 26),\n",
       " (('pick', 'fan'), 26),\n",
       " (('fan', 'army'), 26),\n",
       " (('offensive', 'content'), 26),\n",
       " (('prebreak', 'best'), 25)]"
      ]
     },
     "execution_count": 81,
     "metadata": {},
     "output_type": "execute_result"
    }
   ],
   "source": [
    "#First we will use bigrams\n",
    "\n",
    "bigram_0 = generate_ngrams(df[df['target']=='No']['clean_text'], 2)\n",
    "\n",
    "fdist_b0 = FreqDist(bigram_0)\n",
    "\n",
    "_ = fdist_b0.plot(10, title='Top 10 bigrams for Non-Disaster Tweets')\n",
    "\n",
    "print('Top 20 Bigrams for Non-Disaster Tweets')\n",
    "fdist_b0.most_common(20)"
   ]
  },
  {
   "cell_type": "markdown",
   "metadata": {},
   "source": [
    "In the tweets that are not a disaster, the word “body” and “bag” are common together. This seems odd to me because when I see body and bag together, I assume a bodybag used to place the deceased. \n"
   ]
  },
  {
   "cell_type": "code",
   "execution_count": 82,
   "metadata": {
    "scrolled": true
   },
   "outputs": [
    {
     "data": {
      "image/png": "[encoded data removed]",
      "text/plain": [
       "<Figure size 432x288 with 1 Axes>"
      ]
     },
     "metadata": {
      "needs_background": "light"
     },
     "output_type": "display_data"
    },
    {
     "name": "stdout",
     "output_type": "stream",
     "text": [
      "Top 20 Bigrams for Disaster Tweets\n"
     ]
    },
    {
     "data": {
      "text/plain": [
       "[(('suicide', 'bomber'), 91),\n",
       " (('atomic', 'bomb'), 67),\n",
       " (('northern', 'california'), 57),\n",
       " (('suicide', 'bomb'), 52),\n",
       " (('oil', 'spill'), 50),\n",
       " (('california', 'wildfire'), 46),\n",
       " (('bomber', 'detonate'), 46),\n",
       " (('burn', 'build'), 44),\n",
       " (('detonate', 'bomb'), 43),\n",
       " (('pkk', 'suicide'), 43),\n",
       " (('wild', 'fire'), 42),\n",
       " (('year', 'old'), 41),\n",
       " (('old', 'pkk'), 41),\n",
       " (('mass', 'murder'), 40),\n",
       " (('severe', 'thunderstorm'), 40),\n",
       " (('home', 'raze'), 40),\n",
       " (('latest', 'home'), 39),\n",
       " (('raze', 'northern'), 39),\n",
       " (('heat', 'wave'), 36),\n",
       " (('bomb', 'turkey'), 36)]"
      ]
     },
     "execution_count": 82,
     "metadata": {},
     "output_type": "execute_result"
    }
   ],
   "source": [
    "bigram_1 = generate_ngrams(df[df['target']=='Yes']['clean_text'], 2)\n",
    "\n",
    "fdist_b1 = FreqDist(bigram_1)\n",
    "\n",
    "_ = fdist_b1.plot(10, title='Top 10 bigrams for Disaster Tweets')\n",
    "\n",
    "print('Top 20 Bigrams for Disaster Tweets')\n",
    "fdist_b1.most_common(20)"
   ]
  },
  {
   "cell_type": "markdown",
   "metadata": {},
   "source": [
    "Bigrams starts to add more context to the different types of tweets. For disaster tweets, we can now see that the unigram word ‘california’ is frequently paired with ‘wildfire’. This makes sense as wildfire disasters have been prevalent in California the past few years. “Raze”, another word for destroy, occurs with home and northern, which when I looked up on Google had a lot of references to wildfires in Northern California that razed houses. ‘PKK’ refers to the Kurdistan Workers Party, who are broadly labeled as terrorists, is frequently paired with ‘suicide’. "
   ]
  },
  {
   "cell_type": "code",
   "execution_count": 83,
   "metadata": {},
   "outputs": [
    {
     "data": {
      "image/png": "[encoded data removed]",
      "text/plain": [
       "<Figure size 432x288 with 1 Axes>"
      ]
     },
     "metadata": {
      "needs_background": "light"
     },
     "output_type": "display_data"
    },
    {
     "name": "stdout",
     "output_type": "stream",
     "text": [
      "Top 20 Trigrams for Non-Disaster Tweets\n"
     ]
    },
    {
     "data": {
      "text/plain": [
       "[(('cross', 'body', 'bag'), 33),\n",
       " (('reddit', 'quarantine', 'offensive'), 27),\n",
       " (('china', 'stock', 'market'), 27),\n",
       " (('stock', 'market', 'crash'), 27),\n",
       " (('pick', 'fan', 'army'), 26),\n",
       " (('quarantine', 'offensive', 'content'), 26),\n",
       " (('full', 'read', 'ebay'), 22),\n",
       " (('break', 'news', 'unconfirmed'), 22),\n",
       " (('news', 'unconfirmed', 'hear'), 22),\n",
       " (('unconfirmed', 'hear', 'loud'), 22),\n",
       " (('hear', 'loud', 'bang'), 22),\n",
       " (('loud', 'bang', 'nearby'), 22),\n",
       " (('bang', 'nearby', 'appear'), 22),\n",
       " (('nearby', 'appear', 'blast'), 22),\n",
       " (('appear', 'blast', 'wind'), 22),\n",
       " (('blast', 'wind', 'neighbour'), 22),\n",
       " (('wind', 'neighbour', 'ass'), 22),\n",
       " (('reddit', 'new', 'content'), 22),\n",
       " (('new', 'content', 'policy'), 22),\n",
       " (('content', 'policy', 'effect'), 21)]"
      ]
     },
     "execution_count": 83,
     "metadata": {},
     "output_type": "execute_result"
    }
   ],
   "source": [
    "#Create trigrams\n",
    "\n",
    "trigram_0 = generate_ngrams(df[df['target']=='No']['clean_text'], 3)\n",
    "\n",
    "fdist_t0 = FreqDist(trigram_0)\n",
    "\n",
    "_ = fdist_t0.plot(10, title='Top 10 trigrams for Non-Disaster Tweets')\n",
    "\n",
    "print('Top 20 Trigrams for Non-Disaster Tweets')\n",
    "fdist_t0.most_common(20)"
   ]
  },
  {
   "cell_type": "markdown",
   "metadata": {},
   "source": [
    "Looking at a trigram model, we now see that “body” and “bag” in the not disaster tweets had a high occurrence with “cross”, which could refer to a popular handbag; cross body bags. "
   ]
  },
  {
   "cell_type": "code",
   "execution_count": 84,
   "metadata": {},
   "outputs": [
    {
     "data": {
      "image/png": "[encoded data removed]",
      "text/plain": [
       "<Figure size 432x288 with 1 Axes>"
      ]
     },
     "metadata": {
      "needs_background": "light"
     },
     "output_type": "display_data"
    },
    {
     "name": "stdout",
     "output_type": "stream",
     "text": [
      "Top 20 Trigrams for Disaster Tweets\n"
     ]
    },
    {
     "data": {
      "text/plain": [
       "[(('suicide', 'bomber', 'detonate'), 46),\n",
       " (('pkk', 'suicide', 'bomber'), 42),\n",
       " (('bomber', 'detonate', 'bomb'), 42),\n",
       " (('northern', 'california', 'wildfire'), 41),\n",
       " (('old', 'pkk', 'suicide'), 41),\n",
       " (('latest', 'home', 'raze'), 39),\n",
       " (('home', 'raze', 'northern'), 39),\n",
       " (('raze', 'northern', 'california'), 38),\n",
       " (('severe', 'thunderstorm', 'warn'), 36),\n",
       " (('families', 'affect', 'fatal'), 34),\n",
       " (('affect', 'fatal', 'outbreak'), 34),\n",
       " (('watch', 'airport', 'get'), 34),\n",
       " (('airport', 'get', 'swallow'), 34),\n",
       " (('get', 'swallow', 'sandstorm'), 34),\n",
       " (('swallow', 'sandstorm', 'minute'), 34),\n",
       " (('detonate', 'bomb', 'turkey'), 34),\n",
       " (('bomb', 'turkey', 'army'), 34),\n",
       " (('turkey', 'army', 'trench'), 34),\n",
       " (('families', 'sue', 'legionnaires'), 33),\n",
       " (('wreckage', 'conclusively', 'confirm'), 33)]"
      ]
     },
     "execution_count": 84,
     "metadata": {},
     "output_type": "execute_result"
    }
   ],
   "source": [
    "trigram_1 = generate_ngrams(df[df['target']=='Yes']['clean_text'], 3)\n",
    "\n",
    "fdist_t1 = FreqDist(trigram_1)\n",
    "\n",
    "_ = fdist_t1.plot(10, title='Top 10 trigrams for Disaster Tweets')\n",
    "\n",
    "print('Top 20 Trigrams for Disaster Tweets')\n",
    "fdist_t1.most_common(20)"
   ]
  },
  {
   "cell_type": "markdown",
   "metadata": {},
   "source": [
    "‘California’ and ‘wildfire’ from the bigram model now includes ‘northern’. This gives a better idea to where in California the wildfires may be taking place. One thing noticeable is the count of occurrences. As we increase the models from unigram to bigram to trigram, we see that occurrences of words decrease. I will use all 3 types in my models to see which gives the best results.\n"
   ]
  },
  {
   "cell_type": "markdown",
   "metadata": {},
   "source": [
    "# In-Depth Analysis"
   ]
  },
  {
   "cell_type": "code",
   "execution_count": 113,
   "metadata": {},
   "outputs": [],
   "source": [
    "from sklearn.feature_extraction.text import CountVectorizer, TfidfVectorizer\n",
    "from sklearn.preprocessing import LabelEncoder, MinMaxScaler\n",
    "from sklearn.compose import ColumnTransformer, make_column_transformer\n",
    "\n",
    "from sklearn.pipeline import Pipeline, make_pipeline\n",
    "from sklearn.dummy import DummyClassifier\n",
    "from sklearn.tree import DecisionTreeClassifier\n",
    "from sklearn.ensemble import RandomForestClassifier, AdaBoostClassifier, GradientBoostingClassifier\n",
    "from sklearn.svm import SVC\n",
    "from sklearn.linear_model import LogisticRegression\n",
    "from sklearn.neighbors import KNeighborsClassifier\n",
    "from sklearn.model_selection import train_test_split, KFold, cross_validate, cross_val_score\n",
    "from sklearn.metrics import classification_report, confusion_matrix, plot_confusion_matrix\n",
    "\n",
    "import warnings\n",
    "warnings.filterwarnings('ignore')"
   ]
  },
  {
   "cell_type": "code",
   "execution_count": 290,
   "metadata": {},
   "outputs": [],
   "source": [
    "features = df[['clean_text','tweet_length', 'num_words','hashtag_count', 'mention_count']]\n",
    "\n",
    "#Convert target to 1(yes) and 0(no)\n",
    "Encoder = LabelEncoder()\n",
    "target = Encoder.fit_transform(target)"
   ]
  },
  {
   "cell_type": "code",
   "execution_count": 294,
   "metadata": {
    "scrolled": true
   },
   "outputs": [
    {
     "name": "stdout",
     "output_type": "stream",
     "text": [
      "(10860, 5) (10860,)\n"
     ]
    }
   ],
   "source": [
    "print(features.shape, target.shape)"
   ]
  },
  {
   "cell_type": "code",
   "execution_count": 295,
   "metadata": {},
   "outputs": [],
   "source": [
    "X_train, X_test, y_train, y_test = train_test_split(features, target, test_size=0.3, random_state=34)"
   ]
  },
  {
   "cell_type": "code",
   "execution_count": 298,
   "metadata": {},
   "outputs": [],
   "source": [
    "#Use ColumnTransformer to separate the normalizer for numerical column from text vectors\n",
    "\n",
    "counts = ['tweet_length', 'num_words','hashtag_count', 'mention_count']\n",
    "\n",
    "preprocessor = ColumnTransformer( \n",
    "    transformers = [('minmax', MinMaxScaler(), counts),\n",
    "                    ('cv', CountVectorizer(), 'clean_text')],\n",
    "    remainder='passthrough')"
   ]
  },
  {
   "cell_type": "code",
   "execution_count": 325,
   "metadata": {},
   "outputs": [],
   "source": [
    "#def model_pipeline(vectorizer, model):\n",
    "#    \"\"\"\n",
    "#    Make a pipeline that transforms text to vectors and rescales numerical columns\n",
    "#    INPUT:\n",
    "#        -vectorizer: Choice of vectorizer for your clean text. Example, CountVectorizer()\n",
    "#        -model: choice of model. Example, LogisticRegression()\"\"\"\n",
    "\n",
    "    \n",
    "#    counts = ['tweet_length', 'num_words','hashtag_count', 'mention_count']\n",
    "    \n",
    "#    preprocess = make_column_transformer((MinMaxScaler(), counts),\n",
    "#                                        (vectorizer, 'clean_text'))\n",
    "\n",
    "    \n",
    "#    pipeline = make_pipeline(preprocess, model)\n",
    "    \n",
    "#    return pipeline"
   ]
  },
  {
   "cell_type": "markdown",
   "metadata": {},
   "source": [
    "### Baseline Model"
   ]
  },
  {
   "cell_type": "code",
   "execution_count": 375,
   "metadata": {
    "scrolled": true
   },
   "outputs": [
    {
     "name": "stdout",
     "output_type": "stream",
     "text": [
      "Baseline Model Accuracy for CountVectorizer: 0.505\n"
     ]
    }
   ],
   "source": [
    "dummy = make_pipeline(preprocessor, DummyClassifier(random_state=34))\n",
    "dummy_score = dummy.fit(X_train, y_train).score(X_test,y_test)\n",
    "\n",
    "print ('Baseline Model Accuracy for CountVectorizer: %.3f' % dummy_score)"
   ]
  },
  {
   "cell_type": "markdown",
   "metadata": {},
   "source": [
    "### Logistic Regression"
   ]
  },
  {
   "cell_type": "code",
   "execution_count": 338,
   "metadata": {
    "scrolled": true
   },
   "outputs": [
    {
     "name": "stdout",
     "output_type": "stream",
     "text": [
      "Model Score on Train: 0.941\n",
      "Model Score on Test: 0.794\n",
      "              precision    recall  f1-score   support\n",
      "\n",
      "           0       0.79      0.86      0.83      1848\n",
      "           1       0.80      0.70      0.75      1410\n",
      "\n",
      "    accuracy                           0.79      3258\n",
      "   macro avg       0.79      0.78      0.79      3258\n",
      "weighted avg       0.79      0.79      0.79      3258\n",
      "\n"
     ]
    },
    {
     "data": {
      "image/png": "[encoded data removed]",
      "text/plain": [
       "<Figure size 432x288 with 2 Axes>"
      ]
     },
     "metadata": {
      "needs_background": "light"
     },
     "output_type": "display_data"
    },
    {
     "name": "stdout",
     "output_type": "stream",
     "text": [
      "CPU times: user 1.18 s, sys: 97.2 ms, total: 1.28 s\n",
      "Wall time: 784 ms\n"
     ]
    }
   ],
   "source": [
    "%%time\n",
    "\n",
    "lr_pipe = make_pipeline(preprocessor, LogisticRegression(random_state=34))\n",
    "\n",
    "lr_pipe.fit(X_train, y_train)\n",
    "y_pred = lr_pipe.predict(X_test)\n",
    "print('Model Score on Train: %.3f' % lr_pipe.score(X_train,y_train))\n",
    "print('Model Score on Test: %.3f' % lr_pipe.score(X_test, y_test))\n",
    "print(classification_report(y_test, y_pred))\n",
    "\n",
    "conf = confusion_matrix(y_test, y_pred)\n",
    "_ = sns.heatmap(conf, annot=True, fmt='d', cmap='OrRd')\n",
    "_ = plt.xlabel('Predicted')\n",
    "_ = plt.ylabel('True')\n",
    "_ = plt.title('Logistic Regression Confusion Matrix')\n",
    "plt.show()\n"
   ]
  },
  {
   "cell_type": "markdown",
   "metadata": {},
   "source": [
    "### Decision Tree Classifier"
   ]
  },
  {
   "cell_type": "code",
   "execution_count": 376,
   "metadata": {},
   "outputs": [],
   "source": [
    "#Normalizaiton for Decision Tree and Random Forest is not needed\n",
    "\n",
    "cv = make_column_transformer((CountVectorizer(), 'clean_text'), remainder='passthrough')"
   ]
  },
  {
   "cell_type": "code",
   "execution_count": 377,
   "metadata": {
    "scrolled": true
   },
   "outputs": [
    {
     "name": "stdout",
     "output_type": "stream",
     "text": [
      "Model Score on Train: 0.986\n",
      "Model Score on Test: 0.743\n",
      "              precision    recall  f1-score   support\n",
      "\n",
      "           0       0.75      0.82      0.78      1848\n",
      "           1       0.73      0.65      0.69      1410\n",
      "\n",
      "    accuracy                           0.74      3258\n",
      "   macro avg       0.74      0.73      0.73      3258\n",
      "weighted avg       0.74      0.74      0.74      3258\n",
      "\n"
     ]
    },
    {
     "data": {
      "image/png": "[encoded data removed]",
      "text/plain": [
       "<Figure size 432x288 with 2 Axes>"
      ]
     },
     "metadata": {
      "needs_background": "light"
     },
     "output_type": "display_data"
    },
    {
     "name": "stdout",
     "output_type": "stream",
     "text": [
      "CPU times: user 2 s, sys: 73 ms, total: 2.08 s\n",
      "Wall time: 1.97 s\n"
     ]
    }
   ],
   "source": [
    "%%time\n",
    "\n",
    "dt_pipe = make_pipeline(cv, DecisionTreeClassifier(random_state=34))\n",
    "\n",
    "dt_pipe.fit(X_train, y_train)\n",
    "\n",
    "y_pred = dt_pipe.predict(X_test)\n",
    "print('Model Score on Train: %.3f' % dt_pipe.score(X_train,y_train))\n",
    "print('Model Score on Test: %.3f' % dt_pipe.score(X_test, y_test))\n",
    "print(classification_report(y_test, y_pred))\n",
    "\n",
    "conf = confusion_matrix(y_test, y_pred)\n",
    "_ = sns.heatmap(conf, annot=True, fmt='d', cmap='OrRd')\n",
    "_ = plt.xlabel('Predicted')\n",
    "_ = plt.ylabel('True')\n",
    "_ = plt.title('Decision Tree Confusion Matrix')\n",
    "plt.show()"
   ]
  },
  {
   "cell_type": "markdown",
   "metadata": {},
   "source": [
    "### Random Forest Classifier"
   ]
  },
  {
   "cell_type": "code",
   "execution_count": 341,
   "metadata": {},
   "outputs": [
    {
     "name": "stdout",
     "output_type": "stream",
     "text": [
      "Model Score on Train: 0.986\n",
      "Model Score on Test: 0.785\n",
      "              precision    recall  f1-score   support\n",
      "\n",
      "           0       0.76      0.91      0.83      1848\n",
      "           1       0.84      0.63      0.72      1410\n",
      "\n",
      "    accuracy                           0.79      3258\n",
      "   macro avg       0.80      0.77      0.77      3258\n",
      "weighted avg       0.79      0.79      0.78      3258\n",
      "\n"
     ]
    },
    {
     "data": {
      "image/png": "[encoded data removed]",
      "text/plain": [
       "<Figure size 432x288 with 2 Axes>"
      ]
     },
     "metadata": {
      "needs_background": "light"
     },
     "output_type": "display_data"
    },
    {
     "name": "stdout",
     "output_type": "stream",
     "text": [
      "CPU times: user 15.2 s, sys: 157 ms, total: 15.4 s\n",
      "Wall time: 15.7 s\n"
     ]
    }
   ],
   "source": [
    "%%time\n",
    "\n",
    "rf_pipe = make_pipeline(cv, RandomForestClassifier(random_state=34))\n",
    "rf_pipe.fit(X_train, y_train)\n",
    "y_pred = rf_pipe.predict(X_test)\n",
    "print('Model Score on Train: %.3f' % rf_pipe.score(X_train,y_train))\n",
    "print('Model Score on Test: %.3f' % rf_pipe.score(X_test, y_test))\n",
    "print(classification_report(y_test, y_pred))\n",
    "\n",
    "conf = confusion_matrix(y_test, y_pred)\n",
    "_ = sns.heatmap(conf, annot=True, fmt='d', cmap='OrRd')\n",
    "_ = plt.xlabel('Predicted')\n",
    "_ = plt.ylabel('True')\n",
    "_ = plt.title('Random Forest Confusion Matrix')\n",
    "plt.show()"
   ]
  },
  {
   "cell_type": "markdown",
   "metadata": {},
   "source": [
    "### AdaBoost Classifier"
   ]
  },
  {
   "cell_type": "code",
   "execution_count": 343,
   "metadata": {},
   "outputs": [
    {
     "name": "stdout",
     "output_type": "stream",
     "text": [
      "Model Score on Train: 0.755\n",
      "Model Score on Test: 0.731\n",
      "              precision    recall  f1-score   support\n",
      "\n",
      "           0       0.71      0.89      0.79      1848\n",
      "           1       0.79      0.52      0.62      1410\n",
      "\n",
      "    accuracy                           0.73      3258\n",
      "   macro avg       0.75      0.71      0.71      3258\n",
      "weighted avg       0.74      0.73      0.72      3258\n",
      "\n"
     ]
    },
    {
     "data": {
      "image/png": "[encoded data removed]",
      "text/plain": [
       "<Figure size 432x288 with 2 Axes>"
      ]
     },
     "metadata": {
      "needs_background": "light"
     },
     "output_type": "display_data"
    },
    {
     "name": "stdout",
     "output_type": "stream",
     "text": [
      "CPU times: user 1.59 s, sys: 76.7 ms, total: 1.66 s\n",
      "Wall time: 1.66 s\n"
     ]
    }
   ],
   "source": [
    "%%time\n",
    "\n",
    "ada_pipe = make_pipeline(preprocessor, AdaBoostClassifier(random_state=34))\n",
    "\n",
    "ada_pipe.fit(X_train, y_train)\n",
    "y_pred = ada_pipe.predict(X_test)\n",
    "print('Model Score on Train: %.3f' % ada_pipe.score(X_train,y_train))\n",
    "print('Model Score on Test: %.3f' % ada_pipe.score(X_test, y_test))\n",
    "print(classification_report(y_test, y_pred))\n",
    "\n",
    "conf = confusion_matrix(y_test, y_pred)\n",
    "_ = sns.heatmap(conf, annot=True, fmt='d', cmap='OrRd')\n",
    "_ = plt.xlabel('Predicted')\n",
    "_ = plt.ylabel('True')\n",
    "_ = plt.title('AdaBoost Confusion Matrix')\n",
    "plt.show()"
   ]
  },
  {
   "cell_type": "markdown",
   "metadata": {},
   "source": [
    "### Gradient Boost Classifier"
   ]
  },
  {
   "cell_type": "code",
   "execution_count": 344,
   "metadata": {},
   "outputs": [
    {
     "name": "stdout",
     "output_type": "stream",
     "text": [
      "Model Score on Train: 0.780\n",
      "Model Score on Test: 0.751\n",
      "              precision    recall  f1-score   support\n",
      "\n",
      "           0       0.71      0.94      0.81      1848\n",
      "           1       0.86      0.51      0.64      1410\n",
      "\n",
      "    accuracy                           0.75      3258\n",
      "   macro avg       0.79      0.72      0.72      3258\n",
      "weighted avg       0.78      0.75      0.74      3258\n",
      "\n"
     ]
    },
    {
     "data": {
      "image/png": "[encoded data removed]",
      "text/plain": [
       "<Figure size 432x288 with 2 Axes>"
      ]
     },
     "metadata": {
      "needs_background": "light"
     },
     "output_type": "display_data"
    },
    {
     "name": "stdout",
     "output_type": "stream",
     "text": [
      "CPU times: user 2.79 s, sys: 108 ms, total: 2.9 s\n",
      "Wall time: 3.07 s\n"
     ]
    }
   ],
   "source": [
    "%%time\n",
    "\n",
    "gb_pipe = make_pipeline(preprocessor, GradientBoostingClassifier(random_state=34))\n",
    "\n",
    "gb_pipe.fit(X_train, y_train)\n",
    "y_pred = gb_pipe.predict(X_test)\n",
    "print('Model Score on Train: %.3f' % gb_pipe.score(X_train,y_train))\n",
    "print('Model Score on Test: %.3f' % gb_pipe.score(X_test, y_test))\n",
    "print(classification_report(y_test, y_pred))\n",
    "\n",
    "conf = confusion_matrix(y_test, y_pred)\n",
    "_ = sns.heatmap(conf, annot=True, fmt='d', cmap='OrRd')\n",
    "_ = plt.xlabel('Predicted')\n",
    "_ = plt.ylabel('True')\n",
    "_ = plt.title('Gradient Boost Confusion Matrix')\n",
    "plt.show()"
   ]
  },
  {
   "cell_type": "markdown",
   "metadata": {},
   "source": [
    "### SVC"
   ]
  },
  {
   "cell_type": "code",
   "execution_count": 345,
   "metadata": {
    "scrolled": true
   },
   "outputs": [
    {
     "name": "stdout",
     "output_type": "stream",
     "text": [
      "Model Score on Train: 0.941\n",
      "Model Score on Test: 0.802\n",
      "              precision    recall  f1-score   support\n",
      "\n",
      "           0       0.78      0.91      0.84      1848\n",
      "           1       0.85      0.65      0.74      1410\n",
      "\n",
      "    accuracy                           0.80      3258\n",
      "   macro avg       0.81      0.78      0.79      3258\n",
      "weighted avg       0.81      0.80      0.80      3258\n",
      "\n"
     ]
    },
    {
     "data": {
      "image/png": "[encoded data removed]",
      "text/plain": [
       "<Figure size 432x288 with 2 Axes>"
      ]
     },
     "metadata": {
      "needs_background": "light"
     },
     "output_type": "display_data"
    },
    {
     "name": "stdout",
     "output_type": "stream",
     "text": [
      "CPU times: user 16.3 s, sys: 335 ms, total: 16.6 s\n",
      "Wall time: 17 s\n"
     ]
    }
   ],
   "source": [
    "%%time\n",
    "\n",
    "svc_pipe = make_pipeline(preprocessor, SVC(random_state=34))\n",
    "\n",
    "svc_pipe.fit(X_train, y_train)\n",
    "y_pred = svc_pipe.predict(X_test)\n",
    "print('Model Score on Train: %.3f' % svc_pipe.score(X_train,y_train))\n",
    "print('Model Score on Test: %.3f' % svc_pipe.score(X_test, y_test))\n",
    "print(classification_report(y_test, y_pred))\n",
    "\n",
    "conf = confusion_matrix(y_test, y_pred)\n",
    "_ = sns.heatmap(conf, annot=True, fmt='d', cmap='OrRd')\n",
    "_ = plt.xlabel('Predicted')\n",
    "_ = plt.ylabel('True')\n",
    "_ = plt.title('SVC Confusion Matrix')\n",
    "plt.show()"
   ]
  },
  {
   "cell_type": "markdown",
   "metadata": {},
   "source": [
    "### KNN"
   ]
  },
  {
   "cell_type": "code",
   "execution_count": 346,
   "metadata": {},
   "outputs": [
    {
     "name": "stdout",
     "output_type": "stream",
     "text": [
      "Model Score on Train: 0.822\n",
      "Model Score on Test: 0.735\n",
      "              precision    recall  f1-score   support\n",
      "\n",
      "           0       0.71      0.90      0.79      1848\n",
      "           1       0.80      0.51      0.63      1410\n",
      "\n",
      "    accuracy                           0.74      3258\n",
      "   macro avg       0.76      0.71      0.71      3258\n",
      "weighted avg       0.75      0.74      0.72      3258\n",
      "\n"
     ]
    },
    {
     "data": {
      "image/png": "[encoded data removed]",
      "text/plain": [
       "<Figure size 432x288 with 2 Axes>"
      ]
     },
     "metadata": {
      "needs_background": "light"
     },
     "output_type": "display_data"
    },
    {
     "name": "stdout",
     "output_type": "stream",
     "text": [
      "CPU times: user 5.68 s, sys: 1.91 s, total: 7.59 s\n",
      "Wall time: 8.35 s\n"
     ]
    }
   ],
   "source": [
    "%%time\n",
    "\n",
    "knn_pipe = make_pipeline(preprocessor, KNeighborsClassifier())\n",
    "\n",
    "knn_pipe.fit(X_train, y_train)\n",
    "y_pred = knn_pipe.predict(X_test)\n",
    "print('Model Score on Train: %.3f' % knn_pipe.score(X_train,y_train))\n",
    "print('Model Score on Test: %.3f' % knn_pipe.score(X_test, y_test))\n",
    "print(classification_report(y_test, y_pred))\n",
    "\n",
    "conf = confusion_matrix(y_test, y_pred)\n",
    "_ = sns.heatmap(conf, annot=True, fmt='d', cmap='OrRd')\n",
    "_ = plt.xlabel('Predicted')\n",
    "_ = plt.ylabel('True')\n",
    "_ = plt.title('KNN Confusion Matrix')\n",
    "plt.show()"
   ]
  },
  {
   "cell_type": "markdown",
   "metadata": {},
   "source": [
    "Logistic Regression, Random Forest Classifier, and SVC models have the highest accuracy and f1 scores. "
   ]
  },
  {
   "cell_type": "markdown",
   "metadata": {},
   "source": [
    "### Dimension Reduction"
   ]
  },
  {
   "cell_type": "code",
   "execution_count": 372,
   "metadata": {
    "scrolled": true
   },
   "outputs": [],
   "source": [
    "from sklearn.decomposition import PCA, TruncatedSVD\n",
    "\n",
    "pca = PCA(n_components=0.95, random_state=34)\n",
    "svd = TruncatedSVD(n_components=0.95, random_state=34)"
   ]
  },
  {
   "cell_type": "code",
   "execution_count": 373,
   "metadata": {},
   "outputs": [],
   "source": [
    "test = make_pipeline(CountVectorizer(), TruncatedSVD(n_components=0.95, random_state=34))"
   ]
  },
  {
   "cell_type": "code",
   "execution_count": null,
   "metadata": {},
   "outputs": [],
   "source": []
  },
  {
   "cell_type": "code",
   "execution_count": 374,
   "metadata": {},
   "outputs": [
    {
     "ename": "TypeError",
     "evalue": "'float' object cannot be interpreted as an integer",
     "output_type": "error",
     "traceback": [
      "\u001b[0;31m---------------------------------------------------------------------------\u001b[0m",
      "\u001b[0;31mTypeError\u001b[0m                                 Traceback (most recent call last)",
      "\u001b[0;32m<timed exec>\u001b[0m in \u001b[0;36m<module>\u001b[0;34m\u001b[0m\n",
      "\u001b[0;32m~/.conda/envs/myenv/lib/python3.7/site-packages/sklearn/pipeline.py\u001b[0m in \u001b[0;36mfit\u001b[0;34m(self, X, y, **fit_params)\u001b[0m\n\u001b[1;32m    348\u001b[0m             \u001b[0mThis\u001b[0m \u001b[0mestimator\u001b[0m\u001b[0;34m\u001b[0m\u001b[0;34m\u001b[0m\u001b[0m\n\u001b[1;32m    349\u001b[0m         \"\"\"\n\u001b[0;32m--> 350\u001b[0;31m         \u001b[0mXt\u001b[0m\u001b[0;34m,\u001b[0m \u001b[0mfit_params\u001b[0m \u001b[0;34m=\u001b[0m \u001b[0mself\u001b[0m\u001b[0;34m.\u001b[0m\u001b[0m_fit\u001b[0m\u001b[0;34m(\u001b[0m\u001b[0mX\u001b[0m\u001b[0;34m,\u001b[0m \u001b[0my\u001b[0m\u001b[0;34m,\u001b[0m \u001b[0;34m**\u001b[0m\u001b[0mfit_params\u001b[0m\u001b[0;34m)\u001b[0m\u001b[0;34m\u001b[0m\u001b[0;34m\u001b[0m\u001b[0m\n\u001b[0m\u001b[1;32m    351\u001b[0m         with _print_elapsed_time('Pipeline',\n\u001b[1;32m    352\u001b[0m                                  self._log_message(len(self.steps) - 1)):\n",
      "\u001b[0;32m~/.conda/envs/myenv/lib/python3.7/site-packages/sklearn/pipeline.py\u001b[0m in \u001b[0;36m_fit\u001b[0;34m(self, X, y, **fit_params)\u001b[0m\n\u001b[1;32m    313\u001b[0m                 \u001b[0mmessage_clsname\u001b[0m\u001b[0;34m=\u001b[0m\u001b[0;34m'Pipeline'\u001b[0m\u001b[0;34m,\u001b[0m\u001b[0;34m\u001b[0m\u001b[0;34m\u001b[0m\u001b[0m\n\u001b[1;32m    314\u001b[0m                 \u001b[0mmessage\u001b[0m\u001b[0;34m=\u001b[0m\u001b[0mself\u001b[0m\u001b[0;34m.\u001b[0m\u001b[0m_log_message\u001b[0m\u001b[0;34m(\u001b[0m\u001b[0mstep_idx\u001b[0m\u001b[0;34m)\u001b[0m\u001b[0;34m,\u001b[0m\u001b[0;34m\u001b[0m\u001b[0;34m\u001b[0m\u001b[0m\n\u001b[0;32m--> 315\u001b[0;31m                 **fit_params_steps[name])\n\u001b[0m\u001b[1;32m    316\u001b[0m             \u001b[0;31m# Replace the transformer of the step with the fitted\u001b[0m\u001b[0;34m\u001b[0m\u001b[0;34m\u001b[0m\u001b[0;34m\u001b[0m\u001b[0m\n\u001b[1;32m    317\u001b[0m             \u001b[0;31m# transformer. This is necessary when loading the transformer\u001b[0m\u001b[0;34m\u001b[0m\u001b[0;34m\u001b[0m\u001b[0;34m\u001b[0m\u001b[0m\n",
      "\u001b[0;32m~/.conda/envs/myenv/lib/python3.7/site-packages/joblib/memory.py\u001b[0m in \u001b[0;36m__call__\u001b[0;34m(self, *args, **kwargs)\u001b[0m\n\u001b[1;32m    353\u001b[0m \u001b[0;34m\u001b[0m\u001b[0m\n\u001b[1;32m    354\u001b[0m     \u001b[0;32mdef\u001b[0m \u001b[0m__call__\u001b[0m\u001b[0;34m(\u001b[0m\u001b[0mself\u001b[0m\u001b[0;34m,\u001b[0m \u001b[0;34m*\u001b[0m\u001b[0margs\u001b[0m\u001b[0;34m,\u001b[0m \u001b[0;34m**\u001b[0m\u001b[0mkwargs\u001b[0m\u001b[0;34m)\u001b[0m\u001b[0;34m:\u001b[0m\u001b[0;34m\u001b[0m\u001b[0;34m\u001b[0m\u001b[0m\n\u001b[0;32m--> 355\u001b[0;31m         \u001b[0;32mreturn\u001b[0m \u001b[0mself\u001b[0m\u001b[0;34m.\u001b[0m\u001b[0mfunc\u001b[0m\u001b[0;34m(\u001b[0m\u001b[0;34m*\u001b[0m\u001b[0margs\u001b[0m\u001b[0;34m,\u001b[0m \u001b[0;34m**\u001b[0m\u001b[0mkwargs\u001b[0m\u001b[0;34m)\u001b[0m\u001b[0;34m\u001b[0m\u001b[0;34m\u001b[0m\u001b[0m\n\u001b[0m\u001b[1;32m    356\u001b[0m \u001b[0;34m\u001b[0m\u001b[0m\n\u001b[1;32m    357\u001b[0m     \u001b[0;32mdef\u001b[0m \u001b[0mcall_and_shelve\u001b[0m\u001b[0;34m(\u001b[0m\u001b[0mself\u001b[0m\u001b[0;34m,\u001b[0m \u001b[0;34m*\u001b[0m\u001b[0margs\u001b[0m\u001b[0;34m,\u001b[0m \u001b[0;34m**\u001b[0m\u001b[0mkwargs\u001b[0m\u001b[0;34m)\u001b[0m\u001b[0;34m:\u001b[0m\u001b[0;34m\u001b[0m\u001b[0;34m\u001b[0m\u001b[0m\n",
      "\u001b[0;32m~/.conda/envs/myenv/lib/python3.7/site-packages/sklearn/pipeline.py\u001b[0m in \u001b[0;36m_fit_transform_one\u001b[0;34m(transformer, X, y, weight, message_clsname, message, **fit_params)\u001b[0m\n\u001b[1;32m    726\u001b[0m     \u001b[0;32mwith\u001b[0m \u001b[0m_print_elapsed_time\u001b[0m\u001b[0;34m(\u001b[0m\u001b[0mmessage_clsname\u001b[0m\u001b[0;34m,\u001b[0m \u001b[0mmessage\u001b[0m\u001b[0;34m)\u001b[0m\u001b[0;34m:\u001b[0m\u001b[0;34m\u001b[0m\u001b[0;34m\u001b[0m\u001b[0m\n\u001b[1;32m    727\u001b[0m         \u001b[0;32mif\u001b[0m \u001b[0mhasattr\u001b[0m\u001b[0;34m(\u001b[0m\u001b[0mtransformer\u001b[0m\u001b[0;34m,\u001b[0m \u001b[0;34m'fit_transform'\u001b[0m\u001b[0;34m)\u001b[0m\u001b[0;34m:\u001b[0m\u001b[0;34m\u001b[0m\u001b[0;34m\u001b[0m\u001b[0m\n\u001b[0;32m--> 728\u001b[0;31m             \u001b[0mres\u001b[0m \u001b[0;34m=\u001b[0m \u001b[0mtransformer\u001b[0m\u001b[0;34m.\u001b[0m\u001b[0mfit_transform\u001b[0m\u001b[0;34m(\u001b[0m\u001b[0mX\u001b[0m\u001b[0;34m,\u001b[0m \u001b[0my\u001b[0m\u001b[0;34m,\u001b[0m \u001b[0;34m**\u001b[0m\u001b[0mfit_params\u001b[0m\u001b[0;34m)\u001b[0m\u001b[0;34m\u001b[0m\u001b[0;34m\u001b[0m\u001b[0m\n\u001b[0m\u001b[1;32m    729\u001b[0m         \u001b[0;32melse\u001b[0m\u001b[0;34m:\u001b[0m\u001b[0;34m\u001b[0m\u001b[0;34m\u001b[0m\u001b[0m\n\u001b[1;32m    730\u001b[0m             \u001b[0mres\u001b[0m \u001b[0;34m=\u001b[0m \u001b[0mtransformer\u001b[0m\u001b[0;34m.\u001b[0m\u001b[0mfit\u001b[0m\u001b[0;34m(\u001b[0m\u001b[0mX\u001b[0m\u001b[0;34m,\u001b[0m \u001b[0my\u001b[0m\u001b[0;34m,\u001b[0m \u001b[0;34m**\u001b[0m\u001b[0mfit_params\u001b[0m\u001b[0;34m)\u001b[0m\u001b[0;34m.\u001b[0m\u001b[0mtransform\u001b[0m\u001b[0;34m(\u001b[0m\u001b[0mX\u001b[0m\u001b[0;34m)\u001b[0m\u001b[0;34m\u001b[0m\u001b[0;34m\u001b[0m\u001b[0m\n",
      "\u001b[0;32m~/.conda/envs/myenv/lib/python3.7/site-packages/sklearn/decomposition/_truncated_svd.py\u001b[0m in \u001b[0;36mfit_transform\u001b[0;34m(self, X, y)\u001b[0m\n\u001b[1;32m    178\u001b[0m             U, Sigma, VT = randomized_svd(X, self.n_components,\n\u001b[1;32m    179\u001b[0m                                           \u001b[0mn_iter\u001b[0m\u001b[0;34m=\u001b[0m\u001b[0mself\u001b[0m\u001b[0;34m.\u001b[0m\u001b[0mn_iter\u001b[0m\u001b[0;34m,\u001b[0m\u001b[0;34m\u001b[0m\u001b[0;34m\u001b[0m\u001b[0m\n\u001b[0;32m--> 180\u001b[0;31m                                           random_state=random_state)\n\u001b[0m\u001b[1;32m    181\u001b[0m         \u001b[0;32melse\u001b[0m\u001b[0;34m:\u001b[0m\u001b[0;34m\u001b[0m\u001b[0;34m\u001b[0m\u001b[0m\n\u001b[1;32m    182\u001b[0m             \u001b[0;32mraise\u001b[0m \u001b[0mValueError\u001b[0m\u001b[0;34m(\u001b[0m\u001b[0;34m\"unknown algorithm %r\"\u001b[0m \u001b[0;34m%\u001b[0m \u001b[0mself\u001b[0m\u001b[0;34m.\u001b[0m\u001b[0malgorithm\u001b[0m\u001b[0;34m)\u001b[0m\u001b[0;34m\u001b[0m\u001b[0;34m\u001b[0m\u001b[0m\n",
      "\u001b[0;32m~/.conda/envs/myenv/lib/python3.7/site-packages/sklearn/utils/extmath.py\u001b[0m in \u001b[0;36mrandomized_svd\u001b[0;34m(M, n_components, n_oversamples, n_iter, power_iteration_normalizer, transpose, flip_sign, random_state)\u001b[0m\n\u001b[1;32m    346\u001b[0m \u001b[0;34m\u001b[0m\u001b[0m\n\u001b[1;32m    347\u001b[0m     Q = randomized_range_finder(M, n_random, n_iter,\n\u001b[0;32m--> 348\u001b[0;31m                                 power_iteration_normalizer, random_state)\n\u001b[0m\u001b[1;32m    349\u001b[0m \u001b[0;34m\u001b[0m\u001b[0m\n\u001b[1;32m    350\u001b[0m     \u001b[0;31m# project M to the (k + p) dimensional space using the basis vectors\u001b[0m\u001b[0;34m\u001b[0m\u001b[0;34m\u001b[0m\u001b[0;34m\u001b[0m\u001b[0m\n",
      "\u001b[0;32m~/.conda/envs/myenv/lib/python3.7/site-packages/sklearn/utils/extmath.py\u001b[0m in \u001b[0;36mrandomized_range_finder\u001b[0;34m(A, size, n_iter, power_iteration_normalizer, random_state)\u001b[0m\n\u001b[1;32m    211\u001b[0m \u001b[0;34m\u001b[0m\u001b[0m\n\u001b[1;32m    212\u001b[0m     \u001b[0;31m# Generating normal random vectors with shape: (A.shape[1], size)\u001b[0m\u001b[0;34m\u001b[0m\u001b[0;34m\u001b[0m\u001b[0;34m\u001b[0m\u001b[0m\n\u001b[0;32m--> 213\u001b[0;31m     \u001b[0mQ\u001b[0m \u001b[0;34m=\u001b[0m \u001b[0mrandom_state\u001b[0m\u001b[0;34m.\u001b[0m\u001b[0mnormal\u001b[0m\u001b[0;34m(\u001b[0m\u001b[0msize\u001b[0m\u001b[0;34m=\u001b[0m\u001b[0;34m(\u001b[0m\u001b[0mA\u001b[0m\u001b[0;34m.\u001b[0m\u001b[0mshape\u001b[0m\u001b[0;34m[\u001b[0m\u001b[0;36m1\u001b[0m\u001b[0;34m]\u001b[0m\u001b[0;34m,\u001b[0m \u001b[0msize\u001b[0m\u001b[0;34m)\u001b[0m\u001b[0;34m)\u001b[0m\u001b[0;34m\u001b[0m\u001b[0;34m\u001b[0m\u001b[0m\n\u001b[0m\u001b[1;32m    214\u001b[0m     \u001b[0;32mif\u001b[0m \u001b[0mA\u001b[0m\u001b[0;34m.\u001b[0m\u001b[0mdtype\u001b[0m\u001b[0;34m.\u001b[0m\u001b[0mkind\u001b[0m \u001b[0;34m==\u001b[0m \u001b[0;34m'f'\u001b[0m\u001b[0;34m:\u001b[0m\u001b[0;34m\u001b[0m\u001b[0;34m\u001b[0m\u001b[0m\n\u001b[1;32m    215\u001b[0m         \u001b[0;31m# Ensure f32 is preserved as f32\u001b[0m\u001b[0;34m\u001b[0m\u001b[0;34m\u001b[0m\u001b[0;34m\u001b[0m\u001b[0m\n",
      "\u001b[0;32mmtrand.pyx\u001b[0m in \u001b[0;36mnumpy.random.mtrand.RandomState.normal\u001b[0;34m()\u001b[0m\n",
      "\u001b[0;32m_common.pyx\u001b[0m in \u001b[0;36mnumpy.random._common.cont\u001b[0;34m()\u001b[0m\n",
      "\u001b[0;31mTypeError\u001b[0m: 'float' object cannot be interpreted as an integer"
     ]
    }
   ],
   "source": [
    "%%time\n",
    "\n",
    "lr_pipe_pca = make_pipeline(preprocessor, svd, LogisticRegression(random_state=34))\n",
    "\n",
    "lr_pipe_pca.fit(X_train, y_train)\n",
    "\n",
    "y_pred = lr_pipe_pca.predict(X_test)\n",
    "print('Model Score on Train: %.3f' % lr_pipe_pca.score(X_train,y_train))\n",
    "print('Model Score on Test: %.3f' % lr_pipe_pca.score(X_test, y_test))\n",
    "print(classification_report(y_test, y_pred))\n",
    "\n",
    "conf = confusion_matrix(y_test, y_pred)\n",
    "_ = sns.heatmap(conf, annot=True, fmt='d', cmap='OrRd')\n",
    "_ = plt.xlabel('Predicted')\n",
    "_ = plt.ylabel('True')\n",
    "_ = plt.title('Logistic Regression w/ PCA Confusion Matrix')\n",
    "plt.show()"
   ]
  },
  {
   "cell_type": "code",
   "execution_count": null,
   "metadata": {
    "scrolled": true
   },
   "outputs": [],
   "source": [
    "%%time\n",
    "\n",
    "cv_pca_train = PCA(n_components=0.95, random_state=34).fit(X_train)\n",
    "cv_pca_test = PCA(n_components=0.95, random_state=34).fit(X_test)"
   ]
  },
  {
   "cell_type": "code",
   "execution_count": null,
   "metadata": {
    "scrolled": false
   },
   "outputs": [],
   "source": [
    "_ = plt.plot(np.cumsum(cv_pca_train.explained_variance_ratio_))\n",
    "_ = plt.xlabel('Number of Components')\n",
    "_ = plt.ylabel('Variance (%)')\n",
    "_ = plt.title('CountVectorizer Dataset Explained Variance')\n",
    "plt.show()"
   ]
  },
  {
   "cell_type": "code",
   "execution_count": null,
   "metadata": {},
   "outputs": [],
   "source": []
  },
  {
   "cell_type": "code",
   "execution_count": null,
   "metadata": {},
   "outputs": [],
   "source": []
  },
  {
   "cell_type": "code",
   "execution_count": null,
   "metadata": {},
   "outputs": [],
   "source": []
  },
  {
   "cell_type": "code",
   "execution_count": null,
   "metadata": {},
   "outputs": [],
   "source": []
  }
 ],
 "metadata": {
  "kernelspec": {
   "display_name": "Python 3",
   "language": "python",
   "name": "python3"
  },
  "language_info": {
   "codemirror_mode": {
    "name": "ipython",
    "version": 3
   },
   "file_extension": ".py",
   "mimetype": "text/x-python",
   "name": "python",
   "nbconvert_exporter": "python",
   "pygments_lexer": "ipython3",
   "version": "3.7.6"
  }
 },
 "nbformat": 4,
 "nbformat_minor": 2
}
